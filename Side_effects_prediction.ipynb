{
 "cells": [
  {
   "cell_type": "markdown",
   "id": "d80411d7",
   "metadata": {},
   "source": [
    "# Problem Title"
   ]
  },
  {
   "cell_type": "markdown",
   "id": "55af42a0",
   "metadata": {},
   "source": [
    "Classification Model-Build a Model that Classifies the Side Effects of a Drug"
   ]
  },
  {
   "cell_type": "markdown",
   "id": "499b4320",
   "metadata": {},
   "source": [
    "# Project Description"
   ]
  },
  {
   "cell_type": "markdown",
   "id": "e13bd60a",
   "metadata": {},
   "source": [
    "The objective of this project is to build a classification model that classifies the side effects of a perticular drug"
   ]
  },
  {
   "cell_type": "markdown",
   "id": "b16c6330",
   "metadata": {},
   "source": [
    "# Features Explanation"
   ]
  },
  {
   "cell_type": "raw",
   "id": "7152cc19",
   "metadata": {},
   "source": [
    "1.Drug (categorical): name of drug\n",
    "2.DrugId (numerical): drug id\n",
    "3.Condition (categorical): name of condition\n",
    "4.Review (text): patient review\n",
    "5.Side (text): side effects associated with drug (if any)\n",
    "6.EaseOfUse (numerical): 5 star rating\n",
    "7.Effectiveness (numerical): 5 star rating\n",
    "8.Satisfaction (numerical): 5 star rating\n",
    "9.Date (date): date of review entry\n",
    "10.UsefulCount (numerical): number of users who found review useful.\n",
    "11.Age (numerical): age group range of user\n",
    "12.Sex (categorical): gender of user"
   ]
  },
  {
   "cell_type": "code",
   "execution_count": 1,
   "id": "c3405c1c",
   "metadata": {},
   "outputs": [],
   "source": [
    "import numpy as np \n",
    "import pandas as pd\n",
    "import matplotlib.pyplot as plt\n",
    "import seaborn as sns"
   ]
  },
  {
   "cell_type": "markdown",
   "id": "2baf0c17",
   "metadata": {},
   "source": [
    "#### Read the dataset into the python"
   ]
  },
  {
   "cell_type": "code",
   "execution_count": 2,
   "id": "6ca28258",
   "metadata": {},
   "outputs": [],
   "source": [
    "data=pd.read_csv(\"C:/Users/XArchitecture/Desktop/internship/webmd.csv\")"
   ]
  },
  {
   "cell_type": "code",
   "execution_count": 3,
   "id": "256c0091",
   "metadata": {},
   "outputs": [
    {
     "data": {
      "text/html": [
       "<div>\n",
       "<style scoped>\n",
       "    .dataframe tbody tr th:only-of-type {\n",
       "        vertical-align: middle;\n",
       "    }\n",
       "\n",
       "    .dataframe tbody tr th {\n",
       "        vertical-align: top;\n",
       "    }\n",
       "\n",
       "    .dataframe thead th {\n",
       "        text-align: right;\n",
       "    }\n",
       "</style>\n",
       "<table border=\"1\" class=\"dataframe\">\n",
       "  <thead>\n",
       "    <tr style=\"text-align: right;\">\n",
       "      <th></th>\n",
       "      <th>Age</th>\n",
       "      <th>Condition</th>\n",
       "      <th>Date</th>\n",
       "      <th>Drug</th>\n",
       "      <th>DrugId</th>\n",
       "      <th>EaseofUse</th>\n",
       "      <th>Effectiveness</th>\n",
       "      <th>Reviews</th>\n",
       "      <th>Satisfaction</th>\n",
       "      <th>Sex</th>\n",
       "      <th>Sides</th>\n",
       "      <th>UsefulCount</th>\n",
       "    </tr>\n",
       "  </thead>\n",
       "  <tbody>\n",
       "    <tr>\n",
       "      <th>0</th>\n",
       "      <td>75 or over</td>\n",
       "      <td>Stuffy Nose</td>\n",
       "      <td>9/21/2014</td>\n",
       "      <td>25dph-7.5peh</td>\n",
       "      <td>146724</td>\n",
       "      <td>5</td>\n",
       "      <td>5</td>\n",
       "      <td>I'm a retired physician and of all the meds I ...</td>\n",
       "      <td>5</td>\n",
       "      <td>Male</td>\n",
       "      <td>Drowsiness,  dizziness ,  dry mouth /nose/thro...</td>\n",
       "      <td>0</td>\n",
       "    </tr>\n",
       "    <tr>\n",
       "      <th>1</th>\n",
       "      <td>25-34</td>\n",
       "      <td>Cold Symptoms</td>\n",
       "      <td>1/13/2011</td>\n",
       "      <td>25dph-7.5peh</td>\n",
       "      <td>146724</td>\n",
       "      <td>5</td>\n",
       "      <td>5</td>\n",
       "      <td>cleared me right up even with my throat hurtin...</td>\n",
       "      <td>5</td>\n",
       "      <td>Female</td>\n",
       "      <td>Drowsiness,  dizziness ,  dry mouth /nose/thro...</td>\n",
       "      <td>1</td>\n",
       "    </tr>\n",
       "    <tr>\n",
       "      <th>2</th>\n",
       "      <td>65-74</td>\n",
       "      <td>Other</td>\n",
       "      <td>7/16/2012</td>\n",
       "      <td>warfarin (bulk) 100 % powder</td>\n",
       "      <td>144731</td>\n",
       "      <td>2</td>\n",
       "      <td>3</td>\n",
       "      <td>why did my PTINR go from a normal of 2.5 to ov...</td>\n",
       "      <td>3</td>\n",
       "      <td>Female</td>\n",
       "      <td></td>\n",
       "      <td>0</td>\n",
       "    </tr>\n",
       "    <tr>\n",
       "      <th>3</th>\n",
       "      <td>75 or over</td>\n",
       "      <td>Other</td>\n",
       "      <td>9/23/2010</td>\n",
       "      <td>warfarin (bulk) 100 % powder</td>\n",
       "      <td>144731</td>\n",
       "      <td>2</td>\n",
       "      <td>2</td>\n",
       "      <td>FALLING AND DON'T REALISE IT</td>\n",
       "      <td>1</td>\n",
       "      <td>Female</td>\n",
       "      <td></td>\n",
       "      <td>0</td>\n",
       "    </tr>\n",
       "    <tr>\n",
       "      <th>4</th>\n",
       "      <td>35-44</td>\n",
       "      <td>Other</td>\n",
       "      <td>1/6/2009</td>\n",
       "      <td>warfarin (bulk) 100 % powder</td>\n",
       "      <td>144731</td>\n",
       "      <td>1</td>\n",
       "      <td>1</td>\n",
       "      <td>My grandfather was prescribed this medication ...</td>\n",
       "      <td>1</td>\n",
       "      <td>Male</td>\n",
       "      <td></td>\n",
       "      <td>1</td>\n",
       "    </tr>\n",
       "  </tbody>\n",
       "</table>\n",
       "</div>"
      ],
      "text/plain": [
       "          Age      Condition       Date                          Drug  DrugId  \\\n",
       "0  75 or over    Stuffy Nose  9/21/2014                  25dph-7.5peh  146724   \n",
       "1       25-34  Cold Symptoms  1/13/2011                  25dph-7.5peh  146724   \n",
       "2       65-74          Other  7/16/2012  warfarin (bulk) 100 % powder  144731   \n",
       "3  75 or over          Other  9/23/2010  warfarin (bulk) 100 % powder  144731   \n",
       "4       35-44          Other   1/6/2009  warfarin (bulk) 100 % powder  144731   \n",
       "\n",
       "   EaseofUse  Effectiveness  \\\n",
       "0          5              5   \n",
       "1          5              5   \n",
       "2          2              3   \n",
       "3          2              2   \n",
       "4          1              1   \n",
       "\n",
       "                                             Reviews  Satisfaction     Sex  \\\n",
       "0  I'm a retired physician and of all the meds I ...             5    Male   \n",
       "1  cleared me right up even with my throat hurtin...             5  Female   \n",
       "2  why did my PTINR go from a normal of 2.5 to ov...             3  Female   \n",
       "3                       FALLING AND DON'T REALISE IT             1  Female   \n",
       "4  My grandfather was prescribed this medication ...             1    Male   \n",
       "\n",
       "                                               Sides  UsefulCount  \n",
       "0  Drowsiness,  dizziness ,  dry mouth /nose/thro...            0  \n",
       "1  Drowsiness,  dizziness ,  dry mouth /nose/thro...            1  \n",
       "2                                                               0  \n",
       "3                                                               0  \n",
       "4                                                               1  "
      ]
     },
     "execution_count": 3,
     "metadata": {},
     "output_type": "execute_result"
    }
   ],
   "source": [
    "data.head(5)"
   ]
  },
  {
   "cell_type": "markdown",
   "id": "9342cc41",
   "metadata": {},
   "source": [
    "#### Basic Checks in the dataset"
   ]
  },
  {
   "cell_type": "code",
   "execution_count": 4,
   "id": "f6666185",
   "metadata": {},
   "outputs": [
    {
     "name": "stdout",
     "output_type": "stream",
     "text": [
      "<class 'pandas.core.frame.DataFrame'>\n",
      "RangeIndex: 362806 entries, 0 to 362805\n",
      "Data columns (total 12 columns):\n",
      " #   Column         Non-Null Count   Dtype \n",
      "---  ------         --------------   ----- \n",
      " 0   Age            362806 non-null  object\n",
      " 1   Condition      362806 non-null  object\n",
      " 2   Date           362806 non-null  object\n",
      " 3   Drug           362806 non-null  object\n",
      " 4   DrugId         362806 non-null  int64 \n",
      " 5   EaseofUse      362806 non-null  int64 \n",
      " 6   Effectiveness  362806 non-null  int64 \n",
      " 7   Reviews        362769 non-null  object\n",
      " 8   Satisfaction   362806 non-null  int64 \n",
      " 9   Sex            362806 non-null  object\n",
      " 10  Sides          362806 non-null  object\n",
      " 11  UsefulCount    362806 non-null  int64 \n",
      "dtypes: int64(5), object(7)\n",
      "memory usage: 33.2+ MB\n"
     ]
    }
   ],
   "source": [
    "data.info()"
   ]
  },
  {
   "cell_type": "markdown",
   "id": "9b6e3b51",
   "metadata": {},
   "source": [
    "#### Check for the Duplicates"
   ]
  },
  {
   "cell_type": "code",
   "execution_count": 5,
   "id": "d121bde2",
   "metadata": {},
   "outputs": [
    {
     "data": {
      "text/plain": [
       "943"
      ]
     },
     "execution_count": 5,
     "metadata": {},
     "output_type": "execute_result"
    }
   ],
   "source": [
    "data.duplicated().sum()"
   ]
  },
  {
   "cell_type": "code",
   "execution_count": 6,
   "id": "3ba1a89b",
   "metadata": {},
   "outputs": [
    {
     "data": {
      "text/html": [
       "<div>\n",
       "<style scoped>\n",
       "    .dataframe tbody tr th:only-of-type {\n",
       "        vertical-align: middle;\n",
       "    }\n",
       "\n",
       "    .dataframe tbody tr th {\n",
       "        vertical-align: top;\n",
       "    }\n",
       "\n",
       "    .dataframe thead th {\n",
       "        text-align: right;\n",
       "    }\n",
       "</style>\n",
       "<table border=\"1\" class=\"dataframe\">\n",
       "  <thead>\n",
       "    <tr style=\"text-align: right;\">\n",
       "      <th></th>\n",
       "      <th>Age</th>\n",
       "      <th>Condition</th>\n",
       "      <th>Date</th>\n",
       "      <th>Drug</th>\n",
       "      <th>DrugId</th>\n",
       "      <th>EaseofUse</th>\n",
       "      <th>Effectiveness</th>\n",
       "      <th>Reviews</th>\n",
       "      <th>Satisfaction</th>\n",
       "      <th>Sex</th>\n",
       "      <th>Sides</th>\n",
       "      <th>UsefulCount</th>\n",
       "    </tr>\n",
       "  </thead>\n",
       "  <tbody>\n",
       "    <tr>\n",
       "      <th>12102</th>\n",
       "      <td>55-64</td>\n",
       "      <td>High Blood Pressure</td>\n",
       "      <td>5/22/2013</td>\n",
       "      <td>lisinopril solution</td>\n",
       "      <td>6873</td>\n",
       "      <td>5</td>\n",
       "      <td>5</td>\n",
       "      <td></td>\n",
       "      <td>5</td>\n",
       "      <td>Male</td>\n",
       "      <td>Dizziness ,  lightheadedness , tiredness, or  ...</td>\n",
       "      <td>0</td>\n",
       "    </tr>\n",
       "    <tr>\n",
       "      <th>17120</th>\n",
       "      <td>55-64</td>\n",
       "      <td>High Blood Pressure</td>\n",
       "      <td>5/22/2013</td>\n",
       "      <td>lisinopril</td>\n",
       "      <td>6873</td>\n",
       "      <td>5</td>\n",
       "      <td>5</td>\n",
       "      <td></td>\n",
       "      <td>5</td>\n",
       "      <td>Male</td>\n",
       "      <td>Dizziness ,  lightheadedness , tiredness, or  ...</td>\n",
       "      <td>0</td>\n",
       "    </tr>\n",
       "    <tr>\n",
       "      <th>21816</th>\n",
       "      <td>75 or over</td>\n",
       "      <td>Other</td>\n",
       "      <td>9/6/2015</td>\n",
       "      <td>lucentis vial</td>\n",
       "      <td>144667</td>\n",
       "      <td>1</td>\n",
       "      <td>1</td>\n",
       "      <td>My father was in end stage Macular degenration...</td>\n",
       "      <td>1</td>\n",
       "      <td>Male</td>\n",
       "      <td>Mild discomfort and increased tears may occur ...</td>\n",
       "      <td>0</td>\n",
       "    </tr>\n",
       "    <tr>\n",
       "      <th>22427</th>\n",
       "      <td>35-44</td>\n",
       "      <td>Abnormally Long or Heavy Periods</td>\n",
       "      <td>8/22/2019</td>\n",
       "      <td>larin fe</td>\n",
       "      <td>165169</td>\n",
       "      <td>4</td>\n",
       "      <td>4</td>\n",
       "      <td>Tired and nauseous the first week taking Larin...</td>\n",
       "      <td>4</td>\n",
       "      <td>Female</td>\n",
       "      <td>Nausea ,  vomiting ,  headache ,  bloating ,  ...</td>\n",
       "      <td>0</td>\n",
       "    </tr>\n",
       "    <tr>\n",
       "      <th>24302</th>\n",
       "      <td>25-34</td>\n",
       "      <td>Fungal Infection of Fingernails - Onychomycosis</td>\n",
       "      <td>8/3/2019</td>\n",
       "      <td>lamisil tablet</td>\n",
       "      <td>12422</td>\n",
       "      <td>2</td>\n",
       "      <td>2</td>\n",
       "      <td>Had a rare-ish fungal infection starting at th...</td>\n",
       "      <td>1</td>\n",
       "      <td></td>\n",
       "      <td>Diarrhea  or  stomach  upset may occur.</td>\n",
       "      <td>0</td>\n",
       "    </tr>\n",
       "    <tr>\n",
       "      <th>...</th>\n",
       "      <td>...</td>\n",
       "      <td>...</td>\n",
       "      <td>...</td>\n",
       "      <td>...</td>\n",
       "      <td>...</td>\n",
       "      <td>...</td>\n",
       "      <td>...</td>\n",
       "      <td>...</td>\n",
       "      <td>...</td>\n",
       "      <td>...</td>\n",
       "      <td>...</td>\n",
       "      <td>...</td>\n",
       "    </tr>\n",
       "    <tr>\n",
       "      <th>339647</th>\n",
       "      <td>55-64</td>\n",
       "      <td>Diverticulitis</td>\n",
       "      <td>8/9/2019</td>\n",
       "      <td>cipro</td>\n",
       "      <td>1124</td>\n",
       "      <td>1</td>\n",
       "      <td>3</td>\n",
       "      <td>Helped  ease Diverticulitis pain when combined...</td>\n",
       "      <td>1</td>\n",
       "      <td>Female</td>\n",
       "      <td>Nausea ,  diarrhea ,  dizziness ,  lightheaded...</td>\n",
       "      <td>0</td>\n",
       "    </tr>\n",
       "    <tr>\n",
       "      <th>339648</th>\n",
       "      <td>55-64</td>\n",
       "      <td>Diverticulitis</td>\n",
       "      <td>8/9/2019</td>\n",
       "      <td>cipro suspension, microcapsule reconstituted</td>\n",
       "      <td>1124</td>\n",
       "      <td>1</td>\n",
       "      <td>3</td>\n",
       "      <td>Helped  ease Diverticulitis pain when combined...</td>\n",
       "      <td>1</td>\n",
       "      <td>Female</td>\n",
       "      <td>Nausea ,  diarrhea ,  dizziness ,  lightheaded...</td>\n",
       "      <td>0</td>\n",
       "    </tr>\n",
       "    <tr>\n",
       "      <th>343090</th>\n",
       "      <td>25-34</td>\n",
       "      <td>Excessive Sweating</td>\n",
       "      <td>9/20/2019</td>\n",
       "      <td>clonidine hcl er</td>\n",
       "      <td>11754</td>\n",
       "      <td>5</td>\n",
       "      <td>5</td>\n",
       "      <td>Medication did exactly what I needed it to do....</td>\n",
       "      <td>5</td>\n",
       "      <td>Male</td>\n",
       "      <td>Dizziness ,  lightheadedness , drowsiness, tir...</td>\n",
       "      <td>0</td>\n",
       "    </tr>\n",
       "    <tr>\n",
       "      <th>343390</th>\n",
       "      <td>25-34</td>\n",
       "      <td>Excessive Sweating</td>\n",
       "      <td>9/20/2019</td>\n",
       "      <td>clonidine hcl</td>\n",
       "      <td>11754</td>\n",
       "      <td>5</td>\n",
       "      <td>5</td>\n",
       "      <td>Medication did exactly what I needed it to do....</td>\n",
       "      <td>5</td>\n",
       "      <td>Male</td>\n",
       "      <td>Dizziness ,  lightheadedness , drowsiness,  dr...</td>\n",
       "      <td>0</td>\n",
       "    </tr>\n",
       "    <tr>\n",
       "      <th>353563</th>\n",
       "      <td>55-64</td>\n",
       "      <td>Drying and Inflammation of Cornea and Conjunct...</td>\n",
       "      <td>11/13/2019</td>\n",
       "      <td>cequa dropperette, single use dropper</td>\n",
       "      <td>176582</td>\n",
       "      <td>4</td>\n",
       "      <td>1</td>\n",
       "      <td>My eyes feel like they are burning with this m...</td>\n",
       "      <td>1</td>\n",
       "      <td>Female</td>\n",
       "      <td>Eye  discomfort/redness/ itching , feeling as ...</td>\n",
       "      <td>0</td>\n",
       "    </tr>\n",
       "  </tbody>\n",
       "</table>\n",
       "<p>943 rows × 12 columns</p>\n",
       "</div>"
      ],
      "text/plain": [
       "               Age                                          Condition  \\\n",
       "12102        55-64                                High Blood Pressure   \n",
       "17120        55-64                                High Blood Pressure   \n",
       "21816   75 or over                                              Other   \n",
       "22427        35-44                   Abnormally Long or Heavy Periods   \n",
       "24302        25-34    Fungal Infection of Fingernails - Onychomycosis   \n",
       "...            ...                                                ...   \n",
       "339647       55-64                                     Diverticulitis   \n",
       "339648       55-64                                     Diverticulitis   \n",
       "343090       25-34                                 Excessive Sweating   \n",
       "343390       25-34                                 Excessive Sweating   \n",
       "353563       55-64  Drying and Inflammation of Cornea and Conjunct...   \n",
       "\n",
       "              Date                                          Drug  DrugId  \\\n",
       "12102    5/22/2013                           lisinopril solution    6873   \n",
       "17120    5/22/2013                                    lisinopril    6873   \n",
       "21816     9/6/2015                                 lucentis vial  144667   \n",
       "22427    8/22/2019                                      larin fe  165169   \n",
       "24302     8/3/2019                                lamisil tablet   12422   \n",
       "...            ...                                           ...     ...   \n",
       "339647    8/9/2019                                         cipro    1124   \n",
       "339648    8/9/2019  cipro suspension, microcapsule reconstituted    1124   \n",
       "343090   9/20/2019                              clonidine hcl er   11754   \n",
       "343390   9/20/2019                                 clonidine hcl   11754   \n",
       "353563  11/13/2019         cequa dropperette, single use dropper  176582   \n",
       "\n",
       "        EaseofUse  Effectiveness  \\\n",
       "12102           5              5   \n",
       "17120           5              5   \n",
       "21816           1              1   \n",
       "22427           4              4   \n",
       "24302           2              2   \n",
       "...           ...            ...   \n",
       "339647          1              3   \n",
       "339648          1              3   \n",
       "343090          5              5   \n",
       "343390          5              5   \n",
       "353563          4              1   \n",
       "\n",
       "                                                  Reviews  Satisfaction  \\\n",
       "12102                                                                 5   \n",
       "17120                                                                 5   \n",
       "21816   My father was in end stage Macular degenration...             1   \n",
       "22427   Tired and nauseous the first week taking Larin...             4   \n",
       "24302   Had a rare-ish fungal infection starting at th...             1   \n",
       "...                                                   ...           ...   \n",
       "339647  Helped  ease Diverticulitis pain when combined...             1   \n",
       "339648  Helped  ease Diverticulitis pain when combined...             1   \n",
       "343090  Medication did exactly what I needed it to do....             5   \n",
       "343390  Medication did exactly what I needed it to do....             5   \n",
       "353563  My eyes feel like they are burning with this m...             1   \n",
       "\n",
       "           Sex                                              Sides  UsefulCount  \n",
       "12102     Male  Dizziness ,  lightheadedness , tiredness, or  ...            0  \n",
       "17120     Male  Dizziness ,  lightheadedness , tiredness, or  ...            0  \n",
       "21816     Male  Mild discomfort and increased tears may occur ...            0  \n",
       "22427   Female  Nausea ,  vomiting ,  headache ,  bloating ,  ...            0  \n",
       "24302                     Diarrhea  or  stomach  upset may occur.            0  \n",
       "...        ...                                                ...          ...  \n",
       "339647  Female  Nausea ,  diarrhea ,  dizziness ,  lightheaded...            0  \n",
       "339648  Female  Nausea ,  diarrhea ,  dizziness ,  lightheaded...            0  \n",
       "343090    Male  Dizziness ,  lightheadedness , drowsiness, tir...            0  \n",
       "343390    Male  Dizziness ,  lightheadedness , drowsiness,  dr...            0  \n",
       "353563  Female  Eye  discomfort/redness/ itching , feeling as ...            0  \n",
       "\n",
       "[943 rows x 12 columns]"
      ]
     },
     "execution_count": 6,
     "metadata": {},
     "output_type": "execute_result"
    }
   ],
   "source": [
    "data.loc[data.duplicated(),:]"
   ]
  },
  {
   "cell_type": "markdown",
   "id": "3b26d7e4",
   "metadata": {},
   "source": [
    "There are 943 duplicates values droping that by using drop_duplicates"
   ]
  },
  {
   "cell_type": "code",
   "execution_count": 7,
   "id": "fbeeb893",
   "metadata": {},
   "outputs": [],
   "source": [
    "data.drop_duplicates(inplace=True)"
   ]
  },
  {
   "cell_type": "code",
   "execution_count": 8,
   "id": "cf251870",
   "metadata": {},
   "outputs": [
    {
     "data": {
      "text/plain": [
       "0"
      ]
     },
     "execution_count": 8,
     "metadata": {},
     "output_type": "execute_result"
    }
   ],
   "source": [
    "data.duplicated().sum()"
   ]
  },
  {
   "cell_type": "markdown",
   "id": "fbb2fcb1",
   "metadata": {},
   "source": [
    "#### Check the Missing Values"
   ]
  },
  {
   "cell_type": "code",
   "execution_count": 9,
   "id": "44ac65f3",
   "metadata": {},
   "outputs": [
    {
     "data": {
      "text/plain": [
       "Age               0\n",
       "Condition         0\n",
       "Date              0\n",
       "Drug              0\n",
       "DrugId            0\n",
       "EaseofUse         0\n",
       "Effectiveness     0\n",
       "Reviews          37\n",
       "Satisfaction      0\n",
       "Sex               0\n",
       "Sides             0\n",
       "UsefulCount       0\n",
       "dtype: int64"
      ]
     },
     "execution_count": 9,
     "metadata": {},
     "output_type": "execute_result"
    }
   ],
   "source": [
    "data.isna().sum()"
   ]
  },
  {
   "cell_type": "markdown",
   "id": "116d3049",
   "metadata": {},
   "source": [
    "Only 37 null values presented in reviews column So it's better to remove null values presented columns"
   ]
  },
  {
   "cell_type": "code",
   "execution_count": 10,
   "id": "4bf8a802",
   "metadata": {},
   "outputs": [],
   "source": [
    "data=data.dropna()"
   ]
  },
  {
   "cell_type": "code",
   "execution_count": 11,
   "id": "25f93697",
   "metadata": {},
   "outputs": [
    {
     "data": {
      "text/plain": [
       "(361826, 12)"
      ]
     },
     "execution_count": 11,
     "metadata": {},
     "output_type": "execute_result"
    }
   ],
   "source": [
    "data.shape"
   ]
  },
  {
   "cell_type": "markdown",
   "id": "d517758e",
   "metadata": {},
   "source": [
    "#### Exploratory Data Analysis"
   ]
  },
  {
   "cell_type": "markdown",
   "id": "1f3ab38a",
   "metadata": {},
   "source": [
    "##### Now analysing each of the features individually and some features need some preprocessing before EDA"
   ]
  },
  {
   "cell_type": "markdown",
   "id": "d1a415d1",
   "metadata": {},
   "source": [
    "#### Sides"
   ]
  },
  {
   "cell_type": "code",
   "execution_count": 12,
   "id": "7bc9d023",
   "metadata": {},
   "outputs": [
    {
     "data": {
      "text/plain": [
       "count     361826\n",
       "unique      1651\n",
       "top             \n",
       "freq       17058\n",
       "Name: Sides, dtype: object"
      ]
     },
     "execution_count": 12,
     "metadata": {},
     "output_type": "execute_result"
    }
   ],
   "source": [
    "data['Sides'].describe()"
   ]
  },
  {
   "cell_type": "code",
   "execution_count": 13,
   "id": "cb2e3228",
   "metadata": {},
   "outputs": [],
   "source": [
    "no_side=data.index[data['Sides'].apply(lambda x: x==' ')].tolist()\n",
    "\n",
    "for i in no_side:\n",
    "    data.loc[data.index==i,'Sides']='No side Effect .'  "
   ]
  },
  {
   "cell_type": "code",
   "execution_count": 14,
   "id": "71d69dfb",
   "metadata": {},
   "outputs": [],
   "source": [
    "data.loc[data.index, 'Sides'] = '[' + data['Sides'].astype(str)"
   ]
  },
  {
   "cell_type": "code",
   "execution_count": 15,
   "id": "4ce44222",
   "metadata": {},
   "outputs": [],
   "source": [
    "data.loc[data.index, 'Sides'] = data['Sides'].astype(str) + ']'"
   ]
  },
  {
   "cell_type": "code",
   "execution_count": 16,
   "id": "4ef3d3ed",
   "metadata": {},
   "outputs": [],
   "source": [
    "def clean (li):\n",
    "    li=li.replace('\"','')\n",
    "    li=li.replace(',',' \",\"')\n",
    "    li=li.replace('[','[\"')\n",
    "    li=li.replace(']',' \"] ')\n",
    "    li=li.replace('.',' ')\n",
    "    \n",
    "    return li"
   ]
  },
  {
   "cell_type": "code",
   "execution_count": 17,
   "id": "b9c6f5b1",
   "metadata": {},
   "outputs": [],
   "source": [
    "data['Sides']=data['Sides'].apply(clean)"
   ]
  },
  {
   "cell_type": "code",
   "execution_count": 18,
   "id": "2d37bba5",
   "metadata": {},
   "outputs": [],
   "source": [
    "data['Sides']=data['Sides'].apply(eval)"
   ]
  },
  {
   "cell_type": "code",
   "execution_count": 19,
   "id": "1cfdc6d8",
   "metadata": {},
   "outputs": [
    {
     "data": {
      "text/plain": [
       "0         [Drowsiness ,   dizziness  ,   dry mouth /nose...\n",
       "1         [Drowsiness ,   dizziness  ,   dry mouth /nose...\n",
       "2                                       [No side Effect   ]\n",
       "3                                       [No side Effect   ]\n",
       "4                                       [No side Effect   ]\n",
       "                                ...                        \n",
       "362801    [Nausea  ,   headache  ,   vomiting  ,  drowsi...\n",
       "362802    [Nausea  ,   headache  ,   vomiting  ,  drowsi...\n",
       "362803    [Nausea  ,   headache  ,   vomiting  ,  drowsi...\n",
       "362804    [Nausea  ,   headache  ,   vomiting  ,  drowsi...\n",
       "362805    [Nausea  ,   headache  ,   vomiting  ,  drowsi...\n",
       "Name: Sides, Length: 361826, dtype: object"
      ]
     },
     "execution_count": 19,
     "metadata": {},
     "output_type": "execute_result"
    }
   ],
   "source": [
    "data['Sides']"
   ]
  },
  {
   "cell_type": "code",
   "execution_count": 20,
   "id": "96af2d99",
   "metadata": {},
   "outputs": [
    {
     "data": {
      "text/plain": [
       "Counter({'Drowsiness ': 44199,\n",
       "         '  dizziness  ': 149754,\n",
       "         '  dry mouth /nose/throat ': 98,\n",
       "         '  headache  ': 79635,\n",
       "         '  upset stomach  ': 9701,\n",
       "         '  constipation  ': 93195,\n",
       "         ' or  trouble sleeping  may occur  ': 11125,\n",
       "         'No side Effect   ': 17058,\n",
       "         'Nausea  ': 124945,\n",
       "         '  vomiting  ': 118356,\n",
       "         '  bloating  ': 18780,\n",
       "         '  breast  tenderness ': 18707,\n",
       "         ' swelling of the  ankles /feet (fluid retention) ': 12876,\n",
       "         ' or  weight  change may occur  ': 13801,\n",
       "         'Temporary burning ': 107,\n",
       "         ' stinging ': 2548,\n",
       "         ' dryness in the nose ': 107,\n",
       "         '  runny nose  ': 2167,\n",
       "         ' and  sneezing  may occur  ': 107,\n",
       "         ' or  weight  gain may occur  ': 5621,\n",
       "         'Constipation  ': 5383,\n",
       "         '  diarrhea  ': 57686,\n",
       "         ' or  upset stomach  may occur  ': 5977,\n",
       "         ' and  muscle pain  may occur  ': 158,\n",
       "         ' loss of appetite ': 49728,\n",
       "         ' change in the way food tastes ': 6,\n",
       "         ' or tiredness may occur  ': 4476,\n",
       "         ' bad taste in your  mouth  ': 4812,\n",
       "         ' or  joint /back/ muscle pain  may occur  ': 6,\n",
       "         '  dry mouth  ': 66449,\n",
       "         ' difficulty concentrating ': 3175,\n",
       "         'Dizziness  ': 41988,\n",
       "         ' drowsiness ': 84521,\n",
       "         '  nausea / vomiting  ': 8121,\n",
       "         ' or  weakness  may occur  ': 1946,\n",
       "         '  blurred vision  ': 31046,\n",
       "         '  nausea  ': 61422,\n",
       "         '  trouble sleeping  ': 46167,\n",
       "         ' or  headache  may occur  ': 17760,\n",
       "         'Pyridoxine  usually has no side effects when used in recommended doses  ': 3,\n",
       "         ' abdominal  cramps  ': 242,\n",
       "         ' increased  saliva / sweating  ': 125,\n",
       "         ' decreased pupil size ': 125,\n",
       "         ' or increased urination may occur  ': 267,\n",
       "         'Skin  irritation may occur  ': 19,\n",
       "         '  stomach /abdominal  cramps  ': 43,\n",
       "         ' or loss of appetite may occur  ': 226,\n",
       "         ' or mild muscle/ joint pain  may occur  ': 1,\n",
       "         'Headache  ': 9971,\n",
       "         ' or  stomach  upset may occur  ': 2627,\n",
       "         '  abdominal pain  ': 2515,\n",
       "         ' changes in taste ': 817,\n",
       "         ' or  dizziness  may occur  ': 10797,\n",
       "         'Burning ': 2871,\n",
       "         '  itching  ': 5795,\n",
       "         ' or stinging may occur when you apply this  medication  ': 113,\n",
       "         ' but usually only last a short time  ': 42,\n",
       "         'Temporary redness ': 35,\n",
       "         ' and a little bit of swelling may occur at the application site  ': 34,\n",
       "         '  lightheadedness  ': 73832,\n",
       "         '  weight  gain ': 14191,\n",
       "         ' or  blurred vision  may occur  ': 1020,\n",
       "         'Upset stomach  and  heartburn  may occur  ': 142,\n",
       "         'Mild irritation ': 210,\n",
       "         ' pain ': 2539,\n",
       "         ' bruising ': 798,\n",
       "         ' redness ': 4438,\n",
       "         ' and swelling at the injection site may occur  ': 247,\n",
       "         'Upset stomach  ': 10072,\n",
       "         ' burping ': 553,\n",
       "         ' and strange taste in  mouth  may occur  ': 281,\n",
       "         ' irritation ': 2851,\n",
       "         ' or  itching  at the application site may occur  ': 277,\n",
       "         ' swelling ': 3759,\n",
       "         '  pimple -like bumps ': 81,\n",
       "         ' tenderness ': 445,\n",
       "         ' or flaking of the treated  skin  may occur  ': 81,\n",
       "         ' tingling ': 308,\n",
       "         '  dry skin  ': 1515,\n",
       "         ' or stinging may occur  ': 74,\n",
       "         'Dizziness  or light-headedness may occur as your body adjusts to the  medication   Dry  cough  or swelling hands/ ankles /feet may also occur  ': 369,\n",
       "         'Temporary  blurred vision  may occur when you apply this  medication   If this effect persists or worsens ': 37,\n",
       "         ' tell your doctor or  pharmacist  promptly  ': 6157,\n",
       "         'Eye  discomfort ': 84,\n",
       "         ' or temporary  blurred vision  may occur  ': 430,\n",
       "         'Stinging/burning of the  eyes  for 1 to 2 minutes and temporary  blurred vision  may occur when you apply this  medication   If any of these effects persist or worsen ': 42,\n",
       "         'Temporary  blurred vision  may occur when you apply this  medication   A feeling as if something is in your  eye  may also occur  ': 37,\n",
       "         'You may experience  dizziness  ': 81,\n",
       "         ' light-headedness ': 80,\n",
       "         '  fatigue  ': 3393,\n",
       "         ' dry  cough  ': 80,\n",
       "         ' or  vomiting  as your body adjusts to the  medication   If any of these effects persist or worsen ': 80,\n",
       "         ' notify your doctor or  pharmacist  promptly  ': 418,\n",
       "         ' or  headache  may occur as your body adjusts to the  medication   Dry  cough  may also occur  ': 9287,\n",
       "         ' tiredness ': 60749,\n",
       "         'Dizziness  or  lightheadedness  may occur as your body adjusts to the  medication   If any of these effects persist or worsen ': 1891,\n",
       "         ' or drowsiness may occur  ': 24454,\n",
       "         ' pain/burning/swelling/redness at the injection site ': 33,\n",
       "         ' or unsteadiness may occur  ': 1429,\n",
       "         ' loss of coordination ': 20535,\n",
       "         ' change in sexual interest/ability ': 2266,\n",
       "         '  heartburn  ': 17878,\n",
       "         ' or change in appetite may occur  ': 2266,\n",
       "         'Dry mouth  ': 4715,\n",
       "         ' mild  stomach  upset ': 161,\n",
       "         ' nervousness ': 13080,\n",
       "         ' or thirst may occur  ': 161,\n",
       "         'This drug usually has no side effects  ': 711,\n",
       "         'Stomach  upset ': 9143,\n",
       "         ' or  weight  changes may occur  ': 2606,\n",
       "         ' slow heartbeat ': 1998,\n",
       "         ' or  diarrhea  may occur  ': 5200,\n",
       "         ' and slow heartbeat may occur  ': 2134,\n",
       "         '  stomach / abdominal pain  ': 4076,\n",
       "         ' or unusual taste may occur  ': 294,\n",
       "         ' or  constipation  may occur  ': 9186,\n",
       "         ' change in taste ': 139,\n",
       "         ' or  hair loss  may occur  ': 558,\n",
       "         ' and loss of appetite may occur  ': 2041,\n",
       "         ' or  mouth /lip sores may occur  ': 2,\n",
       "         'Runny/stuffy nose may occur  ': 5,\n",
       "         ' difficulty sleeping ': 3870,\n",
       "         ' irritability ': 5557,\n",
       "         'Swelling in your  ankles  ': 1,\n",
       "         ' feet ': 1,\n",
       "         ' or hands may occur  ': 1,\n",
       "         'Side effects with  carbidopa  are rare and usually occur due to the levodopa-containing product that is taken together with it  ': 16,\n",
       "         'Stinging ': 656,\n",
       "         ' burning ': 2837,\n",
       "         ' dryness ': 2661,\n",
       "         ' or redness at the application site may occur when this  medication  is first applied to the  skin   These effects should disappear in a few days as your body adjusts to the medication  ': 90,\n",
       "         ' abdominal  cramps / bloating  ': 898,\n",
       "         ' swelling of the  ankles /feet (retaining fluid) ': 925,\n",
       "         'Side effects usually do not occur with use of this product  ': 18,\n",
       "         'Simethicone  usually has very few side effects  ': 32,\n",
       "         '  stomach  upset ': 16444,\n",
       "         ' unusual  hair loss  ': 3,\n",
       "         ' increased thirst ': 919,\n",
       "         ' increased frequency of urination ': 919,\n",
       "         ' and mildly shaking hands (fine tremor) may occur  ': 919,\n",
       "         '  sweating  ': 20218,\n",
       "         '  weight loss  ': 12120,\n",
       "         ' and restlessness may occur  ': 1654,\n",
       "         ' decreased appetite ': 3460,\n",
       "         'Dryness ': 3,\n",
       "         ' or peeling at the application site may occur  ': 64,\n",
       "         'Vision  may be temporarily blurred when this product is first used  ': 186,\n",
       "         'Constipation  or  stomach  upset may occur  ': 54,\n",
       "         'Slight burning ': 51,\n",
       "         '  skin  redness ': 34,\n",
       "         ' and peeling may occur  ': 34,\n",
       "         'This  medication  can cause  nausea  ': 41,\n",
       "         ' or  headache   If these symptoms persist or become severe ': 41,\n",
       "         ' notify your doctor  ': 41,\n",
       "         'This product usually has no side effects  ': 32,\n",
       "         'Nausea  or  headache  may occur  ': 187,\n",
       "         'Body aches/pains ': 28,\n",
       "         ' or anal  itching  may occur  ': 2,\n",
       "         'Temporary  hair loss  may occur during the first few months of starting this drug ': 166,\n",
       "         ' especially in children  ': 166,\n",
       "         'Diarrhea  ': 8992,\n",
       "         ' gas ': 7463,\n",
       "         ' or  stomach / abdominal pain /discomfort may occur  ': 234,\n",
       "         'Some  hair loss  may occur during the first few months of starting this drug  ': 20,\n",
       "         '  weakness  ': 21922,\n",
       "         ' or  vomiting  may occur  ': 3576,\n",
       "         'This  medication  may cause stinging ': 9,\n",
       "         ' or redness of the  skin   ': 9,\n",
       "         ' runny/stuffy nose ': 1019,\n",
       "         ' or a  metallic taste  in the  mouth  may occur  ': 5700,\n",
       "         'Pain ': 3879,\n",
       "         ' bleeding ': 2149,\n",
       "         ' or  dizziness  during and after placement of the device may occur  ': 1905,\n",
       "         'Redness ': 2293,\n",
       "         '  blisters  ': 423,\n",
       "         ' or changes in  skin  color at the site of application may occur  ': 207,\n",
       "         ' tingling/burning ': 3,\n",
       "         ' or lightening of the  skin  may occur  ': 4,\n",
       "         'Mild stinging or burning may occur  ': 21,\n",
       "         'Mild  nausea  ': 54,\n",
       "         ' or burning may occur  ': 54,\n",
       "         'Scalp irritation ': 60,\n",
       "         ' including  itching  ': 123,\n",
       "         ' or redness may occur with  head lice  and temporarily worsen after treatment with  permethrin   Mild burning ': 60,\n",
       "         ' or numbness may also occur  ': 60,\n",
       "         'Headache  or  abdominal pain  may occur  ': 2080,\n",
       "         '  dry eyes  ': 1555,\n",
       "         ' and abdominal  bloating  may occur  ': 695,\n",
       "         ' shaking ': 1374,\n",
       "         ' mask-like facial expression ': 341,\n",
       "         ' inability to keep still ': 341,\n",
       "         ' and agitation may occur  ': 341,\n",
       "         'Mild pain/irritation at the injection site ': 16,\n",
       "         '  hot flashes  (flushing) ': 33,\n",
       "         ' increased  sweating  ': 15677,\n",
       "         '  night sweats  ': 751,\n",
       "         '  breast changes  ': 328,\n",
       "         '  acne /seborrhea ': 16,\n",
       "         '  joint /muscle aches ': 330,\n",
       "         ' vaginal discomfort/dryness ': 328,\n",
       "         '  vaginal bleeding /discharge ': 16,\n",
       "         ' or increased  weight  may occur  ': 16,\n",
       "         'Hot flashes  (flushing) ': 687,\n",
       "         '  acne  ': 1764,\n",
       "         ' reduced sexual interest ': 314,\n",
       "         ' swelling of the  ankles /feet ': 677,\n",
       "         ' or mild burning/pain/bruising at the injection site may occur  ': 671,\n",
       "         ' increased urination at night ': 373,\n",
       "         '  breast changes  (such as tenderness ': 2,\n",
       "         ' pain) ': 2,\n",
       "         '  hair loss  ': 4067,\n",
       "         '  abnormal vaginal bleeding  ': 2,\n",
       "         ' unpleasant taste ': 617,\n",
       "         ' or difficulty with coordination may occur  ': 617,\n",
       "         'Burning/stinging/irritation/redness of the  eye  ': 97,\n",
       "         ' feeling as if something is in your  eye  ': 225,\n",
       "         ' watering  eyes  ': 176,\n",
       "         ' and increased sensitivity to light may occur  ': 129,\n",
       "         'If your doctor has directed you to use this  medication  ': 75,\n",
       "         ' remember that he or she has judged that the benefit to you is greater than the risk of side effects  ': 75,\n",
       "         '  stomach  ache ': 44,\n",
       "         '  metallic taste  in the  mouth  ': 23,\n",
       "         ' fever ': 4723,\n",
       "         '  sneezing  ': 56,\n",
       "         ' or  acne  may occur  ': 8924,\n",
       "         'Mild discomfort and increased tears may occur in the affected  eye (s)  Feeling of spinning and  dizziness  may also occur  ': 47,\n",
       "         ' or  dry mouth  may occur  ': 5516,\n",
       "         'Most emollients can be used safely and effectively with no side effects  ': 159,\n",
       "         '  cough  ': 2355,\n",
       "         '  joint / back pain  ': 544,\n",
       "         'Stomach / abdominal pain  or cramping ': 584,\n",
       "         ' abdominal cramping ': 338,\n",
       "         ' or gas may occur  ': 460,\n",
       "         'Stomach  upset and  diarrhea  may occur  ': 240,\n",
       "         'Eye  redness/discomfort/ itching /dryness or eyelid redness may occur  ': 62,\n",
       "         'Blurred vision  ': 577,\n",
       "         ' burning/stinging/ itching /redness of the  eye  ': 134,\n",
       "         ' feeling as if something is in the  eye  ': 689,\n",
       "         ' changes in eyelash number/color/length/thickness ': 134,\n",
       "         ' eyelid changes/ skin  darkening ': 134,\n",
       "         '  dry eye  ': 134,\n",
       "         ' lid crusting/discomfort ': 134,\n",
       "         ' or increased sensitivity to light may occur  ': 183,\n",
       "         ' or  blurred vision  may occur as your body adjusts to the  medication   If any of these effects persist or worsen ': 646,\n",
       "         'Mild and temporary burning/stinging of the  eyes  may occur when you apply this  medication   If this effect persists or worsens ': 19,\n",
       "         '  mouth  sores ': 897,\n",
       "         ' mild  rash  ': 18,\n",
       "         ' and  trouble sleeping  may occur  ': 4421,\n",
       "         'Injection site reactions (such as pain ': 860,\n",
       "         ' irritation) may occur  ': 520,\n",
       "         '  stomach pain  ': 3286,\n",
       "         ' and abnormal taste may occur  ': 120,\n",
       "         ' and  diarrhea  may occur  ': 991,\n",
       "         ' or infections of the ear/nose/throat may occur  ': 3,\n",
       "         'Diarrhea  or  stomach  upset may occur  ': 442,\n",
       "         'Gas ': 272,\n",
       "         '  stomach  rumbling/pain ': 272,\n",
       "         ' and  cramps  may occur  ': 272,\n",
       "         'This  medication  usually has very few side effects  ': 111,\n",
       "         'An increase in  stomach  gas or  bloating  may occur  ': 289,\n",
       "         'An increase in  stomach  gas may occur ': 105,\n",
       "         ' but usually goes away with continued treatment  ': 105,\n",
       "         ' and  headache  may occur  ': 1949,\n",
       "         ' flushing ': 4858,\n",
       "         ' and decreased  sweating  may occur  ': 487,\n",
       "         '  vision  problems ': 101,\n",
       "         'Hair loss  may occur during the first few months of treatment  ': 4153,\n",
       "         ' and increased  sweating  may occur  ': 4460,\n",
       "         ' or  vision  problems may occur  ': 9,\n",
       "         ' or irritation may occur  ': 48,\n",
       "         'Eye  discomfort/irritation/redness ': 25,\n",
       "         ' tearing ': 124,\n",
       "         '  eye  sensitivity to light ': 25,\n",
       "         ' sticky eyelashes ': 25,\n",
       "         ' blurred/ double vision  ': 9469,\n",
       "         ' loss of balance ': 149,\n",
       "         ' difficulty walking ': 143,\n",
       "         ' shakiness (tremor) ': 2021,\n",
       "         ' or memory problems may occur  ': 170,\n",
       "         'Dizziness  and tiredness may occur  ': 149,\n",
       "         'Nausea / vomiting  ': 1038,\n",
       "         ' changes in  vaginal bleeding  ': 81,\n",
       "         ' or  nose bleeds  may occur  ': 111,\n",
       "         'Pain/redness/swelling at the injection site ': 40,\n",
       "         ' or  mouth  sores may occur  ': 40,\n",
       "         ' and  dry mouth  may occur  ': 1883,\n",
       "         'Folic acid  usually has very few side effects  ': 17,\n",
       "         '  muscle pain / weakness  ': 19,\n",
       "         ' swelling of hands/lower legs/feet ': 19,\n",
       "         ' tingling  skin  ': 19,\n",
       "         ' or body odor (fishy smell) may occur  ': 19,\n",
       "         ' stuffy/ runny nose  ': 575,\n",
       "         'Temporary burning/stinging of the  eye  ': 1,\n",
       "         ' itchy/red  eyes  ': 1,\n",
       "         ' unusual tiredness ': 1254,\n",
       "         ' irritation) and swelling of the hands/feet may occur  ': 76,\n",
       "         'Nervousness ': 3826,\n",
       "         ' shaking (tremor) ': 1912,\n",
       "         ' increased  coughing  ': 812,\n",
       "         ' or  runny nose  may occur  ': 146,\n",
       "         '  sore throat  ': 3696,\n",
       "         'Mild burning/pain/bruising at the injection site ': 8,\n",
       "         '  vaginal bleeding  ': 8,\n",
       "         'Aching or pain in the bones and muscles or  headache  may occur  ': 7,\n",
       "         'Infrequently ': 11,\n",
       "         'Hot flashes  ': 2328,\n",
       "         '  joint /bone/ muscle pain  ': 778,\n",
       "         ' unusual  sweating  ': 5967,\n",
       "         'Stuffy nose ': 161,\n",
       "         ' or flushing may occur  ': 1907,\n",
       "         'Stomach  upset may occur  ': 308,\n",
       "         ' hoarseness ': 540,\n",
       "         '  nose bleeds  ': 172,\n",
       "         ' muscle/ joint pain  ': 340,\n",
       "         ' chills ': 1521,\n",
       "         ' mild  rash / itching  ': 109,\n",
       "         ' shortness of breath ': 728,\n",
       "         ' or  dizziness  may occur during or after the infusion  ': 5,\n",
       "         ' and  dizziness  may occur  ': 4234,\n",
       "         'Tiredness ': 5928,\n",
       "         ' or difficulty sleeping may occur  ': 1148,\n",
       "         ' or  stomach / abdominal pain  may occur  ': 1261,\n",
       "         'Nausea  or  vomiting  may occur  ': 864,\n",
       "         '  constipation  or  diarrhea  may occur  ': 635,\n",
       "         'Slight drowsiness/ dizziness  ': 67,\n",
       "         ' or  dry mouth /nose/throat may occur  ': 1444,\n",
       "         ' or nervousness may occur  ': 546,\n",
       "         'Mild  upset stomach  ': 96,\n",
       "         ' or fast heartbeat may occur  ': 96,\n",
       "         'Gas or  stomach  cramping may occur  ': 139,\n",
       "         'Cough  ': 551,\n",
       "         'Mild stinging may occur  ': 9,\n",
       "         ' or unusual tiredness may occur  ': 252,\n",
       "         ' or redness/discomfort/pain/swelling at the injection site may occur  ': 6,\n",
       "         'Temporary  blurred vision  ': 315,\n",
       "         ' bitter/sour/unusual taste in your  mouth  ': 74,\n",
       "         ' temporary discomfort/ itching /redness of the  eye  ': 43,\n",
       "         '  eye  discharge ': 43,\n",
       "         'Dizziness  or  lightheadedness  may occur as your body adjusts to the  medication    Headache  or flushing may also occur  ': 326,\n",
       "         '  diarrhea /loose stools ': 2869,\n",
       "         ' or pain/redness at the injection site may occur  ': 101,\n",
       "         ' or  abdominal pain  may occur  ': 3087,\n",
       "         'Temporary  eye  irritation/stinging/burning or  blurred vision  may occur  ': 68,\n",
       "         ' or  fatigue  ': 71,\n",
       "         ' may occur  ': 75,\n",
       "         'Dizziness  or  lightheadedness  may occur as your body adjusts to the  medication   ': 732,\n",
       "         '  joint pain  ': 588,\n",
       "         'Temporary stinging ': 18,\n",
       "         ' or tingling of the  skin  may occur ': 18,\n",
       "         ' usually at the beginning of treatment  ': 18,\n",
       "         ' tingling or  itching   skin  may occur during the first few weeks ': 82,\n",
       "         ' but then subside as your body adjusts to this  medication   If any of these effects persist or worsen ': 82,\n",
       "         'A bitter taste in the  mouth  ': 193,\n",
       "         ' a burning feeling inside the nose ': 136,\n",
       "         '  sneezing  fits ': 136,\n",
       "         ' muscle aches ': 686,\n",
       "         ' or red  eyes  may occur  ': 136,\n",
       "         'This  medication  may temporarily sting or burn your  eyes  for a minute or two after use  ': 6,\n",
       "         'Skin  burning ': 82,\n",
       "         ' or  itching  may occur  ': 283,\n",
       "         ' nasal dryness/irritation ': 135,\n",
       "         ' mild  nosebleeds  ': 92,\n",
       "         ' or a change in the sense of taste may occur  ': 92,\n",
       "         'Redness/pain/bruising at the injection site ': 40,\n",
       "         'Skin  irritation or redness may occur  ': 77,\n",
       "         'Skin  irritation ': 507,\n",
       "         ' or dryness may occur  ': 25,\n",
       "         'Mouth  irritation ': 125,\n",
       "         '  joint / muscle pain  ': 307,\n",
       "         ' tingling/numbness in hands/feet ': 15,\n",
       "         ' swelling or  itching  at the injection site may occur  ': 62,\n",
       "         ' restlessness ': 249,\n",
       "         ' or pain at injection site may occur  ': 23,\n",
       "         '  stomach   cramps  ': 1109,\n",
       "         ' or tingling/numbness of  mouth  area may occur  ': 14,\n",
       "         ' swelling  ankles /feet ': 1647,\n",
       "         ' or tingling/numbness of the  mouth  area may occur  ': 7,\n",
       "         ' or trouble urinating may occur  ': 2215,\n",
       "         '  abdominal pain /gas/ bloating  ': 17,\n",
       "         ' dry nose/ eyes /throat ': 17,\n",
       "         ' and  urination problems  (such as difficulty urinating or unusual frequent urge to urinate) may occur  ': 17,\n",
       "         ' increased appetite ': 5059,\n",
       "         '  constipation  and  dry mouth  may occur  ': 71,\n",
       "         '  skin  irritation ': 138,\n",
       "         '  metallic taste  ': 138,\n",
       "         'Mild irritation at the injection site may occur  ': 1,\n",
       "         ' mood swings ': 633,\n",
       "         '  weight  gain/loss ': 276,\n",
       "         '  breast  swelling/tenderness ': 152,\n",
       "         ' change in sexual interest ': 152,\n",
       "         ' unwanted  hair  growth ': 152,\n",
       "         '  muscle pain  ': 1364,\n",
       "         'Nose discomfort ': 12,\n",
       "         ' nose bleed ': 21,\n",
       "         ' or  sneezing  may occur  ': 13,\n",
       "         ' or  nausea  may occur  ': 2304,\n",
       "         'Vaginal discomfort/irritation ': 629,\n",
       "         'Mild  itching  ': 72,\n",
       "         ' and stinging at the application site may occur  ': 72,\n",
       "         'Swelling  ankles /feet/hands ': 8,\n",
       "         ' confusion ': 142,\n",
       "         ' or feelings of fullness in the  stomach / abdomen  are very common  ': 597,\n",
       "         ' or swelling in the hands/ ankles /feet may occur  ': 24,\n",
       "         'Mild burning ': 97,\n",
       "         ' and dryness may occur  ': 23,\n",
       "         ' or dryness of the  skin  may occur  ': 8,\n",
       "         ' and  cough  may occur  ': 1092,\n",
       "         ' unusual  eye  movements ': 7790,\n",
       "         ' or shaking (tremor) may occur  ': 10593,\n",
       "         'Skin  redness/ itching /irritation at the application site ': 128,\n",
       "         '  nausea  or  constipation  may occur  ': 128,\n",
       "         ' mild  itching  ': 795,\n",
       "         ' excitation ': 167,\n",
       "         'Skin  redness/ itching /swelling at the application site ': 98,\n",
       "         ' unusual taste in  mouth  ': 250,\n",
       "         ' dry/flushed  skin  ': 250,\n",
       "         ' stuffy nose ': 3392,\n",
       "         'Nausea  or  trouble sleeping  may occur with  methoxsalen   Mild  itching /drying/reddening/darkening of  skin  may occur when methoxsalen is used along with UVA light treatment  ': 10,\n",
       "         'Skin /scalp irritation or staining of  skin / hair  (especially in patients with blonde ': 23,\n",
       "         ' bleached ': 23,\n",
       "         ' dyed ': 23,\n",
       "         ' or gray  hair ) may occur  ': 23,\n",
       "         ' watery  eyes  ': 368,\n",
       "         '  skin  color changes ': 191,\n",
       "         ' increased/decreased sexual interest ': 175,\n",
       "         ' oily  skin  ': 188,\n",
       "         ' and  acne  may occur  ': 632,\n",
       "         'Pain/redness/swelling at injection site or  headache  may occur  ': 23,\n",
       "         'Pain/redness/swelling at the injection site may occur  ': 5,\n",
       "         '  nosebleeds  ': 435,\n",
       "         ' or irritation at the injection site may occur  ': 30,\n",
       "         'Swelling/redness/ itching  at the injection site ': 195,\n",
       "         'Runny/stuffy nose ': 14,\n",
       "         '  nosebleed  ': 147,\n",
       "         ' nasal dryness/irritation/scabbing or changes in smell may occur  ': 12,\n",
       "         'Skin  tingling ': 73,\n",
       "         ' tickling ': 3,\n",
       "         ' or a burning feeling may occur  ': 3,\n",
       "         'Skin  or  eye  irritation/redness may occur  ': 14,\n",
       "         'Weight  gain may occur  ': 42,\n",
       "         'Eye  discomfort or irritation may occur  ': 6,\n",
       "         ' redness/irritation at the injection site ': 151,\n",
       "         ' swelling hands/feet/ ankles  ': 149,\n",
       "         ' or changes in  menstrual cycle  may occur  ': 149,\n",
       "         'Nose/throat dryness or irritation ': 186,\n",
       "         '  blood -tinged  mucus /phlegm ': 150,\n",
       "         ' and  nosebleeds  may occur  ': 150,\n",
       "         'This  medication  may cause brief stinging/ sneezing  right after use  ': 32,\n",
       "         ' and unpleasant taste/smell may occur  ': 28,\n",
       "         'Flushing ': 1408,\n",
       "         ' sensations of tingling/numbness/prickling/heat ': 70,\n",
       "         ' problems sleeping ': 255,\n",
       "         'Stinging/redness in the  eye  ': 52,\n",
       "         ' widened pupils ': 74,\n",
       "         'Back pain  ': 30,\n",
       "         ' increased  weight  ': 38,\n",
       "         ' and loss of  bladder  control may occur  ': 30,\n",
       "         'Body aches ': 201,\n",
       "         ' loss of  bladder  control ': 8,\n",
       "         '  back pain  ': 1102,\n",
       "         ' and  dry mouth  or strange taste in the  mouth  may occur  ': 285,\n",
       "         '  anxiety  ': 2996,\n",
       "         'Pain in the  stomach / abdomen  ': 57,\n",
       "         ' or  itching  at application site may occur  ': 33,\n",
       "         'Mild irritation at the application site may occur  ': 33,\n",
       "         'If this  medication  is injected into a muscle ': 13,\n",
       "         ' pain at the injection site may occur  ': 13,\n",
       "         ' and  vomiting  may occur  ': 1288,\n",
       "         ' feeling high ': 152,\n",
       "         ' an exaggerated sense of well-being (euphoria) ': 27,\n",
       "         '  stomach  cramping/ bloating  ': 598,\n",
       "         ' and  vaginal irritation /discharge may occur  ': 412,\n",
       "         'Weight loss  ': 45,\n",
       "         ' voice changes ': 300,\n",
       "         ' or redness at the application site may occur  ': 351,\n",
       "         'This  medication  may temporarily sting or burn your  eyes  for 1-2 minutes when applied  ': 52,\n",
       "         ' or swelling  ankles /feet may occur  ': 8,\n",
       "         'Skin  reactions such as peeling/burning/dry/reddened  skin  may occur ': 17,\n",
       "         ' especially at the start of treatment  ': 90,\n",
       "         'Saliva  substitutes can be used with no side effects  ': 14,\n",
       "         ' or redness/ itching /swelling at the application site may occur  ': 52,\n",
       "         'Aching or pain in the bones and muscles may occur  ': 97,\n",
       "         '  mouth  sores/pain ': 2,\n",
       "         ' nail changes ': 31,\n",
       "         ' or  muscle spasms  may occur  ': 2,\n",
       "         'Mild  upset stomach  or flushing may occur  ': 78,\n",
       "         '  frequent urination  ': 126,\n",
       "         ' or tiredness may occur as your body adjusts to the  medication   If any of these effects last or get worse ': 23,\n",
       "         'Headache  or  diarrhea  may occur  ': 741,\n",
       "         'This  medication  may cause abnormal  hair  texture ': 83,\n",
       "         ' discoloration ': 295,\n",
       "         ' or  pimple -like bumps on the scalp  ': 83,\n",
       "         'Diarrhea  may occur  ': 549,\n",
       "         ' and flushing may occur as your body adjusts to this  medication   If any of these effects persist or worsen ': 213,\n",
       "         ' and burning/tingling under the  tongue  may occur  ': 31,\n",
       "         ' and flushing may occur  ': 20,\n",
       "         'This  medication  is usually well tolerated  ': 10,\n",
       "         'Stinging/burning of the  eyes  for 1 to 2 minutes or temporary  blurred vision  may occur when this  medication  is applied  ': 38,\n",
       "         'This  medication  may temporarily sting or burn your  eyes  for a minute or two when applied  ': 111,\n",
       "         'This  medication  may temporarily sting or burn your ear for a minute or two when applied  ': 52,\n",
       "         'This  medication  may temporarily sting or burn your  eye /ear for a minute or two when applied  ': 6,\n",
       "         'Stinging/burning of the  eyes  for a minute or two or temporary  blurred vision  may occur   If any of these effects persist or worsen ': 2,\n",
       "         '  headache  may occur  ': 645,\n",
       "         ' facial flushing ': 267,\n",
       "         ' and  weight loss  may occur  ': 5409,\n",
       "         ' or  eye  redness/ itching /discharge may occur  ': 2,\n",
       "         'Because nilutamide may be used with other  medications  ': 4,\n",
       "         ' the side effects may be due to any one medicine or the combination of medications  ': 4,\n",
       "         'Shaking ': 365,\n",
       "         ' unusual growth of body  hair  ': 182,\n",
       "         ' burning feeling in the throat ': 2,\n",
       "         ' or unusual taste/dryness in the  mouth  may occur  ': 2,\n",
       "         ' leg/ muscle cramps  ': 161,\n",
       "         ' or sexual problems may occur  ': 161,\n",
       "         '  mouth / tooth /throat pain ': 21,\n",
       "         '  hiccups  ': 68,\n",
       "         'Nasal irritation/blistering/tingling ': 6,\n",
       "         ' runny or  bloody nose  ': 6,\n",
       "         ' throat irritation ': 1423,\n",
       "         ' or a change in taste or smell may occur  ': 6,\n",
       "         'Mouth / teeth /jaw problems ': 20,\n",
       "         'Mouth  sores ': 30,\n",
       "         'Flushing of the face and neck along with warmth ': 321,\n",
       "         ' or tingling may occur within 2-4 hours of taking this  medication   Flushing may persist for a few hours after use  ': 320,\n",
       "         'Niacinamide  is generally well tolerated in usual doses  ': 10,\n",
       "         ' or tingling may occur within 20 minutes of taking this  medication   Flushing may persist for a few hours after use  ': 1,\n",
       "         '  dry hair  ': 18,\n",
       "         ' or a temporary increase in  dandruff  may occur  ': 18,\n",
       "         'Redness or pain at the injection site ': 365,\n",
       "         ' mild  abdominal pain  ': 14,\n",
       "         ' mood changes ': 14,\n",
       "         ' or mild  nausea / vomiting  may occur  ': 14,\n",
       "         'Although uncommon ': 175,\n",
       "         ' irritation of the  skin  or scalp may occur  ': 3,\n",
       "         ' or irritation at the application site may occur  ': 92,\n",
       "         'This  medication  may cause redness ': 12,\n",
       "         ' or burning of the  skin   If any of these effects persist or worsen ': 12,\n",
       "         'Irritation ': 45,\n",
       "         ' and burning of the  skin  may occur  ': 9,\n",
       "         'Vitamin D  at normal doses usually has no side effects  ': 149,\n",
       "         'Runny nose  ': 12,\n",
       "         ' or body aches may occur  ': 12,\n",
       "         ' redness/warmth/bruising at the injection site ': 1061,\n",
       "         ' and  constipation  may occur  ': 1267,\n",
       "         '  hot flashes  ': 330,\n",
       "         ' or menstrual period changes may occur  ': 47,\n",
       "         'Changes in your bowel function often occur because of the unabsorbed  fat   Fatty/oily stool ': 221,\n",
       "         ' oily spotting ': 221,\n",
       "         ' intestinal gas with discharge ': 221,\n",
       "         ' a feeling of needing to have a  bowel movement  right away ': 221,\n",
       "         ' increased number of  bowel movements  ': 221,\n",
       "         ' or poor bowel control may occur  ': 221,\n",
       "         'Infusion reactions (such as flushing ': 1,\n",
       "         '  itching ) ': 1,\n",
       "         'The suspension may cause  headache  ': 1,\n",
       "         ' or  diarrhea   If any of these effects occur ': 1,\n",
       "         ' tell your doctor or  pharmacist  promptly and discuss switching to other forms of  nitisinone   ': 1,\n",
       "         ' or  cold symptoms  such as stuffy head/nose may occur  ': 202,\n",
       "         '  jaw pain  ': 52,\n",
       "         ' and  abdominal pain  may occur  ': 37,\n",
       "         'Discomfort ': 131,\n",
       "         ' sores ': 6,\n",
       "         ' taste changes ': 82,\n",
       "         ' or irritation/pain in the  mouth  may occur  ': 6,\n",
       "         '  heartburn  may occur  ': 5,\n",
       "         ' appetite changes ': 1061,\n",
       "         ' or mild  headache  may occur  ': 110,\n",
       "         ' and  stomach pain  may occur  ': 314,\n",
       "         '  vaginal discharge  ': 212,\n",
       "         '  muscle spasms  ': 212,\n",
       "         ' and  sweating  may occur  ': 354,\n",
       "         ' or  weight loss  may occur  ': 415,\n",
       "         '  stomach / abdominal pain  or  bloating  ': 83,\n",
       "         'Sore throat  ': 755,\n",
       "         'Unusual taste ': 29,\n",
       "         ' or irritation/numbness/tingling of the nose or throat may occur after using this  medication   Flushing ': 10,\n",
       "         ' feelings of tingling/numbness/prickling/heat ': 1251,\n",
       "         ' or  dizziness  may also occur  ': 10,\n",
       "         'Dry skin  ': 141,\n",
       "         ' or  skin  peeling may occur  ': 152,\n",
       "         ' drooling ': 1134,\n",
       "         ' flushing and unpleasant taste may occur  ': 41,\n",
       "         ' or redness of the treated area may occur  ': 28,\n",
       "         'Nausea and vomiting  may occur  ': 927,\n",
       "         ' or redness/pain/burning at the injection site may occur  ': 23,\n",
       "         ' or pain/swelling/redness at injection site may occur  ': 6,\n",
       "         'Because this  medication  is given at the site of your condition ': 125,\n",
       "         ' most of the side effects occur close to where the medication is injected  ': 125,\n",
       "         'Nausea  or  skin   itching  may occur  ': 3,\n",
       "         ' or dryness may occur when this  medication  is first applied to the  skin    Acne  ': 58,\n",
       "         ' unusual  hair  growth ': 58,\n",
       "         ' or  hair  bumps ( folliculitis ) may also occur  ': 58,\n",
       "         ' or redness may occur when this  medication  is first applied to the scalp/ skin   This should disappear in a few days as your body adjusts to the medication  ': 176,\n",
       "         'Rarely ': 168,\n",
       "         ' stinging/burning of the  eyes  for 1 to 2 minutes may occur when you apply this  medication   If any of these effects persist or worsen ': 157,\n",
       "         'Nosebleeds  ': 74,\n",
       "         ' irritation of the nose ': 74,\n",
       "         ' or  ear pain  may occur  ': 74,\n",
       "         'Fishy aftertaste (if your product is made from  fish oil ) ': 38,\n",
       "         ' or burping may occur  ': 38,\n",
       "         'Itching  ': 518,\n",
       "         ' or swelling at the injection site may occur  ': 1480,\n",
       "         ' and pain at the injection site may occur  ': 288,\n",
       "         'People using this  medication  may have serious side effects  ': 4,\n",
       "         ' burning/stinging/redness/dryness of the  eye  ': 157,\n",
       "         ' eyelid swelling ': 157,\n",
       "         ' or a feeling as if something is in your  eye  may occur  ': 157,\n",
       "         ' or irritation/soreness in the nose may occur  ': 57,\n",
       "         ' or  headache  may occur as your body adjusts to the  medication   If any of these effects persist or worsen ': 106,\n",
       "         ' or redness/pain/swelling at the injection site may occur  ': 22,\n",
       "         'Breath and body odor ': 14,\n",
       "         ' or  heartburn  may occur  ': 122,\n",
       "         'Cough  or  joint / muscle pain  may occur  ': 6,\n",
       "         ' abnormal taste ': 1,\n",
       "         ' or decreased appetite may occur  ': 1,\n",
       "         'Mild  mouth / eye /ear/throat  itching  ': 11,\n",
       "         ' throat dryness/irritation ': 11,\n",
       "         ' or  mouth / tongue /lip swelling may occur ': 8,\n",
       "         ' especially during the first few days of treatment  ': 11,\n",
       "         'Headache  or  trouble sleeping  may occur  ': 5,\n",
       "         ' loose/oily stools ': 46,\n",
       "         '  muscle cramps  ': 147,\n",
       "         ' back/ joint pain  ': 67,\n",
       "         '  mouth /throat pain ': 1,\n",
       "         ' or fast/pounding heartbeat may occur  ': 1,\n",
       "         'Cold symptoms  such as stuffy/ runny nose  or  cough  may occur  ': 3,\n",
       "         'Mild irritation/discomfort in the ear ': 11,\n",
       "         '  earache  ': 11,\n",
       "         ' or changes in taste may occur  ': 1430,\n",
       "         'Pain at the injection site may occur  ': 53,\n",
       "         ' swelling of hands/ ankles /feet ': 3,\n",
       "         'Penis /testicle/groin pain ': 61,\n",
       "         ' minor bleeding or spotting from the  penis  ': 61,\n",
       "         ' swelling (especially of leg veins) ': 61,\n",
       "         ' and rapid heartbeat may occur  ': 61,\n",
       "         '  eye pain /dryness/redness/itchiness may occur  ': 130,\n",
       "         'Very watery  bowel movements  are expected with this  medication    Nausea  ': 716,\n",
       "         ' or worsening of  allergy symptoms  may occur  ': 13,\n",
       "         ' and tiredness may occur  ': 1137,\n",
       "         ' or  headache  commonly occur during the first 1 to 2 days of treatment  ': 12,\n",
       "         ' swelling/pain/ itching  at injection site ': 25,\n",
       "         ' or  sweating  may occur  ': 4504,\n",
       "         ' vaginal discomfort ': 56,\n",
       "         ' vaginal/urethral burning/ itching /pain ': 483,\n",
       "         ' or lower abdominal  cramps  may occur  ': 495,\n",
       "         ' or throat irritation may occur  ': 131,\n",
       "         ' but usually only lasts a short time  ': 88,\n",
       "         'Dry or irritated throat ': 140,\n",
       "         ' hoarseness or  coughing  may occur  ': 140,\n",
       "         'Dry/irritated throat ': 192,\n",
       "         ' or  coughing  may occur as your body adjusts to the  medication   ': 53,\n",
       "         ' or  lightheadedness  may occur as your body adjusts to the  medication   Dry  cough  may also occur  ': 18,\n",
       "         ' or tiredness may occur as your body adjusts to the  medication   Dry  cough  may also occur  ': 245,\n",
       "         'Side effects usually do not occur with this product  ': 59,\n",
       "         'Nausea  or  diarrhea  may occur  ': 269,\n",
       "         'Stuffy/ runny nose  ': 1,\n",
       "         ' or  vomiting  may occur as your body adjusts to the  medication   If any of these effects persist or worsen ': 156,\n",
       "         ' fast heartbeat ': 190,\n",
       "         'Dry lips and  mouth  ': 220,\n",
       "         ' minor swelling of the eyelids or lips ': 220,\n",
       "         ' crusty  skin  ': 220,\n",
       "         ' or thinning of  hair  may occur  ': 220,\n",
       "         'There are no reports of any side effects due to this  medication   However ': 139,\n",
       "         ' tell your doctor if you experience any unpleasant effects while taking this medication  ': 139,\n",
       "         'Darkening  skin  or  dry mouth  may occur  ': 1,\n",
       "         ' tremor ': 382,\n",
       "         'Eye  stinging ': 9,\n",
       "         ' temporary  blurred vision  ': 106,\n",
       "         ' or  eye  sensitivity to light may occur  ': 9,\n",
       "         ' or  nausea / vomiting  may occur  ': 34,\n",
       "         'Irritation or burning of the treated  skin  may occur  ': 5,\n",
       "         'Loss of appetite ': 2516,\n",
       "         '  stomach  upset/pain ': 4066,\n",
       "         'Swelling/redness/irritation at the injection site ': 5,\n",
       "         'Mineral oil  may leak from the rectum ': 17,\n",
       "         ' especially when taken at high doses  ': 17,\n",
       "         '  vision  problems (such as  blurred vision ) ': 26,\n",
       "         ' or problems with muscle control (coordination difficulties) may occur  ': 26,\n",
       "         ' and  diarrhea  may occur as your body adjusts to the  medication   If any of these effects persist or worsen ': 4,\n",
       "         ' or  metallic taste  in your  mouth  may occur  ': 1200,\n",
       "         ' or mild  stomach  upset may occur  ': 92,\n",
       "         'Stomach  discomfort ': 175,\n",
       "         ' or  constipation  may occur as your body adjusts to the  medication   If any of these effects persist or worsen ': 142,\n",
       "         ' agitation ': 474,\n",
       "         ' or pain/redness/swelling at the injection site may occur  ': 1020,\n",
       "         ' and  weakness  may occur as your body adjusts to the  medication   If any of these effects persist or worsen ': 1,\n",
       "         ' warmth ': 189,\n",
       "         ' or burning on the application site may occur  ': 333,\n",
       "         ' or abdominal  bloating  may occur  ': 136,\n",
       "         ' and  upset stomach  may occur  ': 471,\n",
       "         '  trouble sleeping  or  diarrhea  may occur  ': 3,\n",
       "         ' sensitive  skin  ': 1,\n",
       "         ' or  flu -like symptoms (such as  sore throat  ': 1,\n",
       "         ' body aches) may occur  ': 1,\n",
       "         'Rectal pain ': 95,\n",
       "         ' pain when inserting the  suppository  ': 68,\n",
       "         ' pain while inserting the bottle tip ': 27,\n",
       "         ' and  joint / leg pain  may occur  ': 27,\n",
       "         ' or  joint / muscle pain  may occur  ': 100,\n",
       "         'This vitamin usually has no side effects  ': 9,\n",
       "         ' excitement ': 32,\n",
       "         'Vitamin K  usually has no side effects  ': 4,\n",
       "         'Swelling ': 194,\n",
       "         ' or soreness at the injection site may occur  ': 75,\n",
       "         ' mild  stomach pain / bloating  ': 16,\n",
       "         ' redness/pain at the injection site ': 28,\n",
       "         'Skin  redness/irritation at the application site ': 699,\n",
       "         ' vaginal spotting/bleeding ': 7,\n",
       "         ' lip/ mouth  sores ': 7,\n",
       "         ' or abdominal  cramps  may occur  ': 19,\n",
       "         'Trouble sleeping  ': 625,\n",
       "         ' decreased sexual ability/desire ': 179,\n",
       "         ' changes in appetite ': 243,\n",
       "         ' dry/ itchy skin  ': 21,\n",
       "         'Stomach  upset/pain ': 124,\n",
       "         ' or irritation/pain at the injection site may occur  ': 202,\n",
       "         ' decrease in breast size ': 186,\n",
       "         ' change in  vaginal discharge  ': 670,\n",
       "         ' or irritation/pain at injection site may occur  ': 186,\n",
       "         ' or  weight  gain/loss may occur  ': 176,\n",
       "         'Warmth ': 316,\n",
       "         'Stomach / abdominal pain  ': 132,\n",
       "         ' cramping ': 332,\n",
       "         'Nausea  or  stomach   cramps  may occur  ': 128,\n",
       "         'Flushing and redness/burning of the  skin  may occur  ': 109,\n",
       "         ' body aches ': 110,\n",
       "         ' and tenderness at the injection site may occur  ': 178,\n",
       "         ' or a feeling of spinning may occur  ': 703,\n",
       "         'Headaches  may occur  ': 12,\n",
       "         ' or  hot flashes  (flushing) may occur  ': 924,\n",
       "         ' menstrual period changes ': 261,\n",
       "         ' trouble falling asleep ': 125,\n",
       "         ' or a shaky/nervous feeling may occur  ': 125,\n",
       "         ' or abdominal discomfort/pain may occur as your body adjusts to this  medication  during the first few weeks  ': 42,\n",
       "         'Sore nose/throat ': 38,\n",
       "         ' goose bumps ': 70,\n",
       "         ' or urinary problems (strong/frequent urge to urinate ': 70,\n",
       "         ' trouble urinating) may occur  ': 70,\n",
       "         'Pain/redness at the injection site or  dizziness  may occur  ': 19,\n",
       "         ' or  headache  may occur as your body adjusts to the  medication   If any of these effects last or get worse ': 937,\n",
       "         'Skin  irritation and burning may occur  ': 16,\n",
       "         '(See also How to Use section)  Runny nose  ': 27,\n",
       "         ' nasal irritation ': 27,\n",
       "         ' dry nose with crusting ': 27,\n",
       "         ' flushing of the face ': 33,\n",
       "         ' or  back pain  may occur  ': 38,\n",
       "         'Burning/stinging at the application site ': 14,\n",
       "         ' or yawning may occur  ': 6966,\n",
       "         '  mouth /throat dryness or irritation ': 473,\n",
       "         '  nausea  or  dizziness  may occur  ': 486,\n",
       "         ' soreness ': 299,\n",
       "         ' or  itching  in the area of treated  skin  may occur during the first few days of treatment  ': 57,\n",
       "         'Decreased sexual ability/desire may occur  ': 471,\n",
       "         ' or tiredness may occur as your body adjusts to the  medication   ': 1200,\n",
       "         ' or tiredness may occur as the body adjusts to the  medication    Diarrhea  ': 376,\n",
       "         ' and unusual  dreams  may also occur  ': 376,\n",
       "         ' decreased  sweating  ': 166,\n",
       "         ' metallic/salty taste in the  mouth  ': 136,\n",
       "         ' and tingling/numbness may occur  ': 19,\n",
       "         'Fever ': 30,\n",
       "         ' muscle stiffness ': 3,\n",
       "         'Temporary irritation/burning/stinging of the  eye  ': 17,\n",
       "         'Pain at the injection site ': 81,\n",
       "         ' numb/tingling  skin  ': 16,\n",
       "         ' and muscle aches may occur  ': 16,\n",
       "         ' and numbness/tingling of the hands/feet may occur  ': 157,\n",
       "         'Shaking (tremor) ': 7,\n",
       "         ' or numbness/tingling hands/feet may occur  ': 7,\n",
       "         'Bloating  ': 53,\n",
       "         '  cramps  ': 290,\n",
       "         '  breast  swelling/pain ': 32,\n",
       "         ' pain around the vaginal area ': 32,\n",
       "         ' decreased interest in  sex  ': 975,\n",
       "         ' or vaginal discomfort may occur  ': 21,\n",
       "         '  upset stomach  and  stomach /abdominal cramping may occur  ': 7,\n",
       "         ' and changes in sense of taste may occur  ': 15,\n",
       "         'Pain/swelling at injection site ': 5,\n",
       "         ' increased body/facial  hair  ': 5,\n",
       "         ' loss of scalp  hair  ': 5,\n",
       "         'Burning or stinging may occur  ': 23,\n",
       "         '  skin / hair  follicle irritation ': 90,\n",
       "         ' and changes in  skin  color around the rectal area may occur  ': 90,\n",
       "         ' or injection site irritation/pain may occur  ': 102,\n",
       "         ' difficulty swallowing ': 1,\n",
       "         ' or darkening of the  skin  may occur  ': 2,\n",
       "         ' bad taste ': 59,\n",
       "         ' or  sore throat  may occur  ': 906,\n",
       "         ' or excessive  sweating  may occur  ': 1446,\n",
       "         ' and abdominal  cramps  may occur  ': 1,\n",
       "         'Since  darunavir  is always taken with other  HIV   medications  ': 8,\n",
       "         ' it may be difficult to tell whether darunavir is causing certain side effects  ': 8,\n",
       "         ' and  weakness  may occur  ': 219,\n",
       "         'Mouth /gum irritation may rarely occur  ': 72,\n",
       "         'Injection site reactions (e g  ': 175,\n",
       "         ' hard lump) ': 172,\n",
       "         ' muscle/ joint  aches ': 174,\n",
       "         ' or fever may occur  ': 175,\n",
       "         'Frequent ': 212,\n",
       "         ' very watery  bowel movements  at any time should occur after you drink this product  ': 212,\n",
       "         'This  medication  does not usually have bothersome side effects when used as directed  ': 50,\n",
       "         ' or  upset stomach  may occur as your body adjusts to the  medication   ': 689,\n",
       "         'Stinging/burning of the  eyes  for 1 to 2 minutes may occur when this  medication  is applied  ': 53,\n",
       "         ' or pain at the injection site may occur  ': 139,\n",
       "         ' stinging/burning of the  eyes  for 1 to 2 minutes may occur when you apply this  medication   If used in the ear ': 11,\n",
       "         ' stinging/burning may also rarely occur  ': 11,\n",
       "         ' an exaggerated sense of well-being ': 125,\n",
       "         ' or  stomach / abdominal pain  may occur as your body adjusts to the  medication   If any of these effects persist or worsen ': 104,\n",
       "         ' and  stomach  upset may occur  ': 171,\n",
       "         'Side effects may include  nausea  ': 54,\n",
       "         ' and  dizziness   ': 54,\n",
       "         ' or a lump at the injection site may occur  ': 4,\n",
       "         'Upset stomach  or  nausea  may occur  ': 17,\n",
       "         ' or redness may occur when this  medication  is first applied to the  skin   This should disappear in a few days as your body adjusts to the medication  ': 227,\n",
       "         'Weight  gain ': 68,\n",
       "         ' and  joint pain  may occur  ': 42,\n",
       "         'Easy bruising or minor bleeding (such as  nosebleed  ': 880,\n",
       "         ' bleeding from cuts) may occur  ': 987,\n",
       "         'Sore/dry throat and hoarseness may occur  ': 10,\n",
       "         ' bad taste in the  mouth  ': 2247,\n",
       "         ' or  nosebleeds  may occur  ': 92,\n",
       "         'Mild abdominal discomfort/ cramps  ': 134,\n",
       "         'Rectal irritation/burning/ itching  ': 5,\n",
       "         ' mild abdominal discomfort/ cramps  ': 5,\n",
       "         'Skin  reactions such as peeling ': 73,\n",
       "         ' and reddened  skin  may occur ': 72,\n",
       "         'Constipation  may occur  ': 9,\n",
       "         'Dizziness  and  lightheadedness  may occur as your body adjusts to the  medication   Tiredness and  diarrhea  may also occur  ': 164,\n",
       "         'Mild redness and  dry skin  may occur  ': 44,\n",
       "         ' and redness ': 63,\n",
       "         ' may occur with  scabies  and temporarily worsen after treatment with  permethrin   Mild burning or stinging may also occur  ': 63,\n",
       "         'Pain/redness/swelling at injection site may occur  ': 8,\n",
       "         ' and yawning may occur  ': 7050,\n",
       "         'Tooth / tongue  staining ': 69,\n",
       "         ' increased  tartar  ': 69,\n",
       "         '  mouth /throat irritation ': 69,\n",
       "         ' and change in taste of food/drinks may occur  ': 69,\n",
       "         'Temporary staining of the  teeth  may occur  ': 38,\n",
       "         'Dizziness  or light-headedness may occur as your body adjusts to the  medication   Dry  cough  ': 1,\n",
       "         ' swelling hands/ ankles /feet ': 2,\n",
       "         ' or  nausea  may also occur  ': 41,\n",
       "         'Shakiness (tremor) ': 68,\n",
       "         'Side effects from this  medication  are rare  ': 56,\n",
       "         ' or  stomach   cramps  may occur  ': 26,\n",
       "         ' belching ': 39,\n",
       "         'Mild  rash / itching  may occur  ': 2,\n",
       "         ' unusual taste/dryness in the  mouth  ': 1,\n",
       "         ' or redness/pain/leakage at the injection site may occur  ': 1,\n",
       "         'Skin  irritation such as dryness ': 109,\n",
       "         ' flaking ': 109,\n",
       "         ' and  mouth  sores may occur  ': 86,\n",
       "         ' and decreased sense of taste may occur  ': 11,\n",
       "         'Redness/burning of treated  skin  or changes in shape/color of nail may occur  ': 42,\n",
       "         ' swelling  ankles /feet/hands ': 24,\n",
       "         '  itchy skin  ': 44,\n",
       "         'Lumps may occur under the  skin  if the same injection site is used often  ': 5,\n",
       "         'Most people have  flu -like symptoms such as  headache  ': 93,\n",
       "         ' and muscle aches ': 93,\n",
       "         ' but these usually get better after the first few weeks of treatment  ': 55,\n",
       "         ' or numbness may occur  ': 54,\n",
       "         ' but these usually decrease after the first few weeks of treatment  ': 38,\n",
       "         ' numbness/tingling ': 1,\n",
       "         'Mild  nausea and vomiting  may occur  ': 12,\n",
       "         ' lack of energy ': 24,\n",
       "         ' change in how food tastes ': 5,\n",
       "         ' decreased  weight  ': 8,\n",
       "         ' or  dry skin  may occur  ': 19,\n",
       "         '  tooth problems  or a  metallic taste  in the  mouth  may occur  ': 87,\n",
       "         ' or  tooth problems  may occur  ': 720,\n",
       "         'Mild burning or irritation at the application site may occur during the first few days of treatment  ': 83,\n",
       "         ' and  nausea  may occur as your body adjusts to the  medication   If any of these effects persist or worsen ': 17,\n",
       "         'Sweating  ': 117,\n",
       "         ' frequent urge to urinate ': 117,\n",
       "         ' and  blurred vision  may occur  ': 120,\n",
       "         'Skin  redness ': 338,\n",
       "         ' flaking/peeling ': 72,\n",
       "         ' crusting ': 72,\n",
       "         ' or swelling commonly occur at the site of application  ': 72,\n",
       "         '  poor vision  in dim light ': 11,\n",
       "         ' or brow ache may occur  ': 11,\n",
       "         ' eyelid muscle  twitching  ': 3,\n",
       "         ' feeling of spinning ': 418,\n",
       "         ' tingling of the hands/feet ': 5449,\n",
       "         ' and  metallic taste  may occur  ': 110,\n",
       "         '  dizziness  or decrease in pupil size may occur  ': 7,\n",
       "         'Mild peeling of the top layer of  skin  is expected  ': 21,\n",
       "         ' irritation or scaling of the  skin  may occur  ': 55,\n",
       "         'Easy bleeding/bruising ': 1153,\n",
       "         ' memory problems ': 4,\n",
       "         ' and difficulty concentrating may occur  ': 4,\n",
       "         ' back/bone pain ': 9,\n",
       "         '  muscle pain / cramps  ': 9,\n",
       "         'Temporary  eye  stinging/burning/redness/itchiness or temporary  blurred vision  may occur  ': 45,\n",
       "         ' or irritation of the  skin  may occur  ': 119,\n",
       "         ' peeling  skin  ': 71,\n",
       "         ' small sores ': 71,\n",
       "         ' unusual  dreams  ': 1981,\n",
       "         '  hemorrhoids  ': 1,\n",
       "         ' altered sense of taste ': 42,\n",
       "         ' numbness/tingling/redness in hands/feet ': 32,\n",
       "         ' or feeling tired/weak may occur  ': 32,\n",
       "         ' and  heartburn  may occur  ': 1,\n",
       "         ' numbness ': 4,\n",
       "         '  abdominal pain / cramps / bloating  ': 52,\n",
       "         'Discoloration of the  skin  or pain ': 1,\n",
       "         ' or swelling along your veins may occur  ': 1,\n",
       "         'Trouble sleeping  is the most common side effect  ': 14,\n",
       "         'Flu -like symptoms (such as mild fever ': 13,\n",
       "         ' muscle/ joint  aches) may occur after treatment  ': 13,\n",
       "         ' or numbness/tingling of arms/legs may occur  ': 26,\n",
       "         ' numbness/tingling/burning of the hands/feet ': 37,\n",
       "         ' and pain may occur in the treated area  ': 71,\n",
       "         ' trouble walking ': 19,\n",
       "         ' or blurred/ double vision  may occur  ': 13,\n",
       "         'Headache  may occur  ': 344,\n",
       "         ' or daytime drowsiness may occur  ': 258,\n",
       "         'Mild fever ': 9,\n",
       "         '  abdominal pain /discomfort ': 265,\n",
       "         'Calcitriol does not usually have side effects  ': 38,\n",
       "         ' and  upset stomach  may occur as your body adjusts to the  metformin   ': 1,\n",
       "         'Stomach /abdominal cramping may occur ': 8,\n",
       "         ' usually within the first several hours after taking this  medication   ': 8,\n",
       "         'Hot flashes  or leg  cramps  may occur  ': 253,\n",
       "         'Calcifediol usually has very few side effects  ': 5,\n",
       "         ' or ejaculation problems may occur  ': 1008,\n",
       "         '  mouth / tongue  swelling ': 3,\n",
       "         ' or  mouth   blisters  may occur ': 3,\n",
       "         'Bruising ': 68,\n",
       "         ' problems walking ': 2,\n",
       "         ' pain at injection site ': 3,\n",
       "         ' loss of appetite/ weight loss  ': 953,\n",
       "         ' and shakiness (tremor) may occur as your body adjusts to the drug  ': 9,\n",
       "         ' shakiness (tremors) ': 52,\n",
       "         ' and  skin  irritation at the application site may occur  ': 52,\n",
       "         ' or redness/swelling/pain at the injection site may occur  ': 49,\n",
       "         'Upset stomach  may occur  ': 746,\n",
       "         'Nausea  may occur  ': 37,\n",
       "         '  fainting  ': 8,\n",
       "         '  indigestion  ': 8,\n",
       "         'Bladder pain  and discomfort may occur  ': 7,\n",
       "         ' or numbness/tingling around the  mouth  may occur  ': 27,\n",
       "         ' menstrual changes ': 409,\n",
       "         'Numbness of the  mouth  or throat may occur  ': 10,\n",
       "         'This vitamin may cause your urine to turn bright yellow  ': 13,\n",
       "         ' low appetite ': 154,\n",
       "         '  weight loss  or gain ': 154,\n",
       "         ' or changes in taste/hearing may occur  ': 154,\n",
       "         'Chest soreness may occur  ': 1,\n",
       "         'Headache  or  nausea  may occur  ': 38,\n",
       "         ' and inability to keep still may occur  ': 50,\n",
       "         ' or swollen hands/ ankles /feet ( edema ) may occur  ': 48,\n",
       "         'A brief sensation of warmth or stinging may occur immediately after applying the  medication    Skin  redness ': 206,\n",
       "         ' scaling ': 460,\n",
       "         ' mild burning ': 464,\n",
       "         ' or worsening of  acne  may occur during the first 2-4 weeks of using the medication  ': 298,\n",
       "         'Dizziness  or difficulty with coordination may occur  ': 869,\n",
       "         'Eye  discomfort/redness/ itching  ': 355,\n",
       "         ' or bruising at the injection site may occur  ': 200,\n",
       "         ' and redness/swelling/pain at the injection site may occur  ': 16,\n",
       "         'Stomach / abdominal pain  may occur  ': 6,\n",
       "         ' feelings of tingling/numbness ': 257,\n",
       "         ' eyelid redness ': 16,\n",
       "         ' or corneal staining may occur  ': 16,\n",
       "         'Skin  reactions ( dermatitis ) ': 6,\n",
       "         ' or worsening of  rosacea  pimples may occur  ': 6,\n",
       "         ' or unpleasant taste/smell may occur  ': 8,\n",
       "         'Dizziness  may occur  ': 3236,\n",
       "         ' pain/sores in the  mouth /throat ': 15,\n",
       "         ' or muscle stiffness may occur  ': 15,\n",
       "         'Abdominal/ stomach pain  may occur  ': 12,\n",
       "         'Headache  may occur ': 7,\n",
       "         ' but usually lasts a short time after each dose  ': 7,\n",
       "         '  flu -like symptoms (e g  ': 618,\n",
       "         ' muscle/ joint  aches) ': 618,\n",
       "         'Mild  nosebleeds  ': 43,\n",
       "         ' unpleasant taste/smell may occur  ': 43,\n",
       "         'Mild  headache  ': 92,\n",
       "         '  ringing in the ears  ': 4405,\n",
       "         ' decreased hearing ': 92,\n",
       "         ' and temporary changes in color  vision  may occur  ': 92,\n",
       "         ' or tiredness may occur as your body adjusts to the  medication   Dry  cough  ': 135,\n",
       "         ' or  vomiting  may also occur  ': 95,\n",
       "         '  stomach pain / cramps  ': 18,\n",
       "         ' or a burning feeling in throat or chest (e g  ': 18,\n",
       "         '  heartburn ) may occur  ': 18,\n",
       "         ' changes in how foods taste ': 549,\n",
       "         'This product usually has very few side effects  ': 32,\n",
       "         ' dry/cracked/thickened  skin  ': 66,\n",
       "         ' swelling around  eyes  ': 66,\n",
       "         ' numbness/tingling of arms/legs ': 116,\n",
       "         'Temporary  weakness  in your legs or inability to move or talk may occur  ': 176,\n",
       "         ' and trouble concentrating may frequently occur  ': 245,\n",
       "         ' difficulty urinating ': 29,\n",
       "         ' changes in appetite/ weight  ': 125,\n",
       "         'Stomach pain  ': 977,\n",
       "         ' or cramping may occur  ': 155,\n",
       "         ' or  stomach /abdominal cramping may occur  ': 345,\n",
       "         'Dry/ sore throat  ': 131,\n",
       "         ' a bad taste in the  mouth  ': 177,\n",
       "         ' or voice changes may occur  ': 131,\n",
       "         'Rectal irritation/burning ': 6,\n",
       "         ...})"
      ]
     },
     "execution_count": 20,
     "metadata": {},
     "output_type": "execute_result"
    }
   ],
   "source": [
    "from collections import Counter\n",
    "Counter([i for j in data.Sides for i in j])"
   ]
  },
  {
   "cell_type": "code",
   "execution_count": 21,
   "id": "1c0f3e71",
   "metadata": {},
   "outputs": [
    {
     "data": {
      "image/png": "[encoded data removed]",
      "text/plain": [
       "<Figure size 864x576 with 1 Axes>"
      ]
     },
     "metadata": {
      "needs_background": "light"
     },
     "output_type": "display_data"
    }
   ],
   "source": [
    "from wordcloud import WordCloud\n",
    "from PIL import Image\n",
    "plt.figure(figsize = (12,8))\n",
    "text = ' '.join(i for j in data.Sides for i in j)\n",
    "word_cld = WordCloud(max_font_size=None, background_color='black', collocations=False,\n",
    "                      width=1200, height=1000).generate(text)\n",
    "plt.imshow(word_cld)\n",
    "plt.title(\"Top Sides\")\n",
    "plt.axis(\"off\")\n",
    "plt.show();"
   ]
  },
  {
   "cell_type": "code",
   "execution_count": 22,
   "id": "9e279c1b",
   "metadata": {},
   "outputs": [],
   "source": [
    "top_Sides =[ m[0] for m in Counter([i for j in data.Sides for i in j]).most_common(8)]"
   ]
  },
  {
   "cell_type": "code",
   "execution_count": 23,
   "id": "190ebd39",
   "metadata": {},
   "outputs": [
    {
     "data": {
      "text/plain": [
       "['  dizziness  ',\n",
       " 'Nausea  ',\n",
       " '  vomiting  ',\n",
       " '  constipation  ',\n",
       " ' drowsiness ',\n",
       " '  headache  ',\n",
       " '  lightheadedness  ',\n",
       " '  dry mouth  ']"
      ]
     },
     "execution_count": 23,
     "metadata": {},
     "output_type": "execute_result"
    }
   ],
   "source": [
    "top_Sides"
   ]
  },
  {
   "cell_type": "code",
   "execution_count": 24,
   "id": "6b9d7b00",
   "metadata": {},
   "outputs": [],
   "source": [
    "data[\"Sides_count\"]=data['Sides'].apply(lambda x: len(x))"
   ]
  },
  {
   "cell_type": "code",
   "execution_count": 25,
   "id": "9b90b95d",
   "metadata": {},
   "outputs": [],
   "source": [
    "def categorise(row):  \n",
    "    if row['Sides_count'] <= 4:\n",
    "        return 0\n",
    "    if row['Sides_count'] >4 and row['Sides_count'] <= 8:\n",
    "        return 1\n",
    "    if row['Sides_count'] > 8  and row['Sides_count'] <=12:\n",
    "        return 2\n",
    "    \n",
    "    return 3"
   ]
  },
  {
   "cell_type": "code",
   "execution_count": 26,
   "id": "dc8d3752",
   "metadata": {},
   "outputs": [],
   "source": [
    "data['Sides_class'] = data.apply(lambda row: categorise(row), axis=1)"
   ]
  },
  {
   "cell_type": "code",
   "execution_count": 27,
   "id": "8ce3dfd0",
   "metadata": {},
   "outputs": [
    {
     "data": {
      "text/html": [
       "<div>\n",
       "<style scoped>\n",
       "    .dataframe tbody tr th:only-of-type {\n",
       "        vertical-align: middle;\n",
       "    }\n",
       "\n",
       "    .dataframe tbody tr th {\n",
       "        vertical-align: top;\n",
       "    }\n",
       "\n",
       "    .dataframe thead th {\n",
       "        text-align: right;\n",
       "    }\n",
       "</style>\n",
       "<table border=\"1\" class=\"dataframe\">\n",
       "  <thead>\n",
       "    <tr style=\"text-align: right;\">\n",
       "      <th></th>\n",
       "      <th>Age</th>\n",
       "      <th>Condition</th>\n",
       "      <th>Date</th>\n",
       "      <th>Drug</th>\n",
       "      <th>DrugId</th>\n",
       "      <th>EaseofUse</th>\n",
       "      <th>Effectiveness</th>\n",
       "      <th>Reviews</th>\n",
       "      <th>Satisfaction</th>\n",
       "      <th>Sex</th>\n",
       "      <th>Sides</th>\n",
       "      <th>UsefulCount</th>\n",
       "      <th>Sides_count</th>\n",
       "      <th>Sides_class</th>\n",
       "    </tr>\n",
       "  </thead>\n",
       "  <tbody>\n",
       "    <tr>\n",
       "      <th>3326</th>\n",
       "      <td>19-24</td>\n",
       "      <td>Pinworm Infection</td>\n",
       "      <td>5/8/2015</td>\n",
       "      <td>pyrantel pamoate suspension</td>\n",
       "      <td>9999</td>\n",
       "      <td>5</td>\n",
       "      <td>5</td>\n",
       "      <td>I went to the doctors because I noticed I had ...</td>\n",
       "      <td>5</td>\n",
       "      <td>Female</td>\n",
       "      <td>[Nausea  ,   vomiting  ,   diarrhea  ,   stoma...</td>\n",
       "      <td>7</td>\n",
       "      <td>9</td>\n",
       "      <td>2</td>\n",
       "    </tr>\n",
       "    <tr>\n",
       "      <th>3327</th>\n",
       "      <td>25-34</td>\n",
       "      <td>Pinworm Infection</td>\n",
       "      <td>7/27/2014</td>\n",
       "      <td>pyrantel pamoate suspension</td>\n",
       "      <td>9999</td>\n",
       "      <td>3</td>\n",
       "      <td>5</td>\n",
       "      <td>I had a horrible pinworm infestation that was ...</td>\n",
       "      <td>5</td>\n",
       "      <td>Female</td>\n",
       "      <td>[Nausea  ,   vomiting  ,   diarrhea  ,   stoma...</td>\n",
       "      <td>13</td>\n",
       "      <td>9</td>\n",
       "      <td>2</td>\n",
       "    </tr>\n",
       "  </tbody>\n",
       "</table>\n",
       "</div>"
      ],
      "text/plain": [
       "        Age          Condition       Date                         Drug  \\\n",
       "3326  19-24  Pinworm Infection   5/8/2015  pyrantel pamoate suspension   \n",
       "3327  25-34  Pinworm Infection  7/27/2014  pyrantel pamoate suspension   \n",
       "\n",
       "      DrugId  EaseofUse  Effectiveness  \\\n",
       "3326    9999          5              5   \n",
       "3327    9999          3              5   \n",
       "\n",
       "                                                Reviews  Satisfaction     Sex  \\\n",
       "3326  I went to the doctors because I noticed I had ...             5  Female   \n",
       "3327  I had a horrible pinworm infestation that was ...             5  Female   \n",
       "\n",
       "                                                  Sides  UsefulCount  \\\n",
       "3326  [Nausea  ,   vomiting  ,   diarrhea  ,   stoma...            7   \n",
       "3327  [Nausea  ,   vomiting  ,   diarrhea  ,   stoma...           13   \n",
       "\n",
       "      Sides_count  Sides_class  \n",
       "3326            9            2  \n",
       "3327            9            2  "
      ]
     },
     "execution_count": 27,
     "metadata": {},
     "output_type": "execute_result"
    }
   ],
   "source": [
    "data[data['Sides_class']==2].head(2)"
   ]
  },
  {
   "cell_type": "code",
   "execution_count": 28,
   "id": "63ca14c4",
   "metadata": {},
   "outputs": [
    {
     "data": {
      "image/png": "[encoded data removed]",
      "text/plain": [
       "<Figure size 720x360 with 1 Axes>"
      ]
     },
     "metadata": {
      "needs_background": "light"
     },
     "output_type": "display_data"
    },
    {
     "data": {
      "text/plain": [
       "<Figure size 1080x360 with 0 Axes>"
      ]
     },
     "metadata": {},
     "output_type": "display_data"
    }
   ],
   "source": [
    "plt.figure(figsize=(10,5))\n",
    "sns.countplot(x='Sides_class',data=data)\n",
    "plt.title(\"Count Plot of side effect\" )\n",
    "plt.figure(figsize=(15,5))\n",
    "plt.tight_layout()\n",
    "plt.show()"
   ]
  },
  {
   "cell_type": "markdown",
   "id": "565c02cb",
   "metadata": {},
   "source": [
    "#### Age"
   ]
  },
  {
   "cell_type": "code",
   "execution_count": 29,
   "id": "4d4c4348",
   "metadata": {},
   "outputs": [
    {
     "data": {
      "text/html": [
       "<div>\n",
       "<style scoped>\n",
       "    .dataframe tbody tr th:only-of-type {\n",
       "        vertical-align: middle;\n",
       "    }\n",
       "\n",
       "    .dataframe tbody tr th {\n",
       "        vertical-align: top;\n",
       "    }\n",
       "\n",
       "    .dataframe thead th {\n",
       "        text-align: right;\n",
       "    }\n",
       "</style>\n",
       "<table border=\"1\" class=\"dataframe\">\n",
       "  <thead>\n",
       "    <tr style=\"text-align: right;\">\n",
       "      <th></th>\n",
       "      <th>Age</th>\n",
       "    </tr>\n",
       "  </thead>\n",
       "  <tbody>\n",
       "    <tr>\n",
       "      <th>45-54</th>\n",
       "      <td>79857</td>\n",
       "    </tr>\n",
       "    <tr>\n",
       "      <th>55-64</th>\n",
       "      <td>74836</td>\n",
       "    </tr>\n",
       "    <tr>\n",
       "      <th>35-44</th>\n",
       "      <td>54948</td>\n",
       "    </tr>\n",
       "    <tr>\n",
       "      <th>25-34</th>\n",
       "      <td>49479</td>\n",
       "    </tr>\n",
       "    <tr>\n",
       "      <th>65-74</th>\n",
       "      <td>41121</td>\n",
       "    </tr>\n",
       "    <tr>\n",
       "      <th>19-24</th>\n",
       "      <td>24228</td>\n",
       "    </tr>\n",
       "    <tr>\n",
       "      <th>75 or over</th>\n",
       "      <td>15188</td>\n",
       "    </tr>\n",
       "    <tr>\n",
       "      <th></th>\n",
       "      <td>12145</td>\n",
       "    </tr>\n",
       "    <tr>\n",
       "      <th>13-18</th>\n",
       "      <td>7045</td>\n",
       "    </tr>\n",
       "    <tr>\n",
       "      <th>7-12</th>\n",
       "      <td>1644</td>\n",
       "    </tr>\n",
       "    <tr>\n",
       "      <th>3-6</th>\n",
       "      <td>838</td>\n",
       "    </tr>\n",
       "    <tr>\n",
       "      <th>0-2</th>\n",
       "      <td>497</td>\n",
       "    </tr>\n",
       "  </tbody>\n",
       "</table>\n",
       "</div>"
      ],
      "text/plain": [
       "              Age\n",
       "45-54       79857\n",
       "55-64       74836\n",
       "35-44       54948\n",
       "25-34       49479\n",
       "65-74       41121\n",
       "19-24       24228\n",
       "75 or over  15188\n",
       "            12145\n",
       "13-18        7045\n",
       "7-12         1644\n",
       "3-6           838\n",
       "0-2           497"
      ]
     },
     "execution_count": 29,
     "metadata": {},
     "output_type": "execute_result"
    }
   ],
   "source": [
    "data['Age'].value_counts().to_frame()"
   ]
  },
  {
   "cell_type": "code",
   "execution_count": 30,
   "id": "665130f1",
   "metadata": {},
   "outputs": [
    {
     "data": {
      "text/plain": [
       "['75 or over',\n",
       " '25-34',\n",
       " '65-74',\n",
       " '35-44',\n",
       " '55-64',\n",
       " '45-54',\n",
       " '19-24',\n",
       " ' ',\n",
       " '13-18',\n",
       " '7-12',\n",
       " '0-2',\n",
       " '3-6']"
      ]
     },
     "execution_count": 30,
     "metadata": {},
     "output_type": "execute_result"
    }
   ],
   "source": [
    "data['Age'].unique().tolist()"
   ]
  },
  {
   "cell_type": "code",
   "execution_count": 31,
   "id": "3eb71a8c",
   "metadata": {},
   "outputs": [
    {
     "data": {
      "text/html": [
       "<div>\n",
       "<style scoped>\n",
       "    .dataframe tbody tr th:only-of-type {\n",
       "        vertical-align: middle;\n",
       "    }\n",
       "\n",
       "    .dataframe tbody tr th {\n",
       "        vertical-align: top;\n",
       "    }\n",
       "\n",
       "    .dataframe thead th {\n",
       "        text-align: right;\n",
       "    }\n",
       "</style>\n",
       "<table border=\"1\" class=\"dataframe\">\n",
       "  <thead>\n",
       "    <tr style=\"text-align: right;\">\n",
       "      <th></th>\n",
       "      <th>Age</th>\n",
       "      <th>Condition</th>\n",
       "      <th>Date</th>\n",
       "      <th>Drug</th>\n",
       "      <th>DrugId</th>\n",
       "      <th>EaseofUse</th>\n",
       "      <th>Effectiveness</th>\n",
       "      <th>Reviews</th>\n",
       "      <th>Satisfaction</th>\n",
       "      <th>Sex</th>\n",
       "      <th>Sides</th>\n",
       "      <th>UsefulCount</th>\n",
       "      <th>Sides_count</th>\n",
       "      <th>Sides_class</th>\n",
       "    </tr>\n",
       "  </thead>\n",
       "  <tbody>\n",
       "    <tr>\n",
       "      <th>12</th>\n",
       "      <td></td>\n",
       "      <td>Birth Control</td>\n",
       "      <td>7/3/2018</td>\n",
       "      <td>lyza</td>\n",
       "      <td>164750</td>\n",
       "      <td>2</td>\n",
       "      <td>1</td>\n",
       "      <td>This stuff needs to be removed from the market...</td>\n",
       "      <td>1</td>\n",
       "      <td>Female</td>\n",
       "      <td>[Nausea  ,   vomiting  ,   headache  ,   bloat...</td>\n",
       "      <td>0</td>\n",
       "      <td>6</td>\n",
       "      <td>1</td>\n",
       "    </tr>\n",
       "    <tr>\n",
       "      <th>73</th>\n",
       "      <td></td>\n",
       "      <td>Abnormally Long or Heavy Periods</td>\n",
       "      <td>10/3/2012</td>\n",
       "      <td>lysteda</td>\n",
       "      <td>154120</td>\n",
       "      <td>5</td>\n",
       "      <td>5</td>\n",
       "      <td>54 YO with uterine fibroids and HEAVY clotting...</td>\n",
       "      <td>5</td>\n",
       "      <td></td>\n",
       "      <td>[Nausea  ,   vomiting  ,   diarrhea  ,  and  m...</td>\n",
       "      <td>10</td>\n",
       "      <td>4</td>\n",
       "      <td>0</td>\n",
       "    </tr>\n",
       "    <tr>\n",
       "      <th>91</th>\n",
       "      <td></td>\n",
       "      <td>Abnormally Long or Heavy Periods</td>\n",
       "      <td>4/10/2012</td>\n",
       "      <td>lysteda</td>\n",
       "      <td>154120</td>\n",
       "      <td>3</td>\n",
       "      <td>4</td>\n",
       "      <td>I am 45 years old with fibroids. I have had he...</td>\n",
       "      <td>1</td>\n",
       "      <td>Female</td>\n",
       "      <td>[Nausea  ,   vomiting  ,   diarrhea  ,  and  m...</td>\n",
       "      <td>18</td>\n",
       "      <td>4</td>\n",
       "      <td>0</td>\n",
       "    </tr>\n",
       "    <tr>\n",
       "      <th>184</th>\n",
       "      <td></td>\n",
       "      <td>Neuropathic Pain</td>\n",
       "      <td>2/29/2020</td>\n",
       "      <td>lyrica</td>\n",
       "      <td>93965</td>\n",
       "      <td>5</td>\n",
       "      <td>5</td>\n",
       "      <td>No Script or health Insurance needed to place ...</td>\n",
       "      <td>5</td>\n",
       "      <td></td>\n",
       "      <td>[Drowsiness ,   dizziness  ,   dry mouth  ,   ...</td>\n",
       "      <td>12</td>\n",
       "      <td>6</td>\n",
       "      <td>1</td>\n",
       "    </tr>\n",
       "    <tr>\n",
       "      <th>185</th>\n",
       "      <td></td>\n",
       "      <td>Nerve Pain after Herpes</td>\n",
       "      <td>2/24/2020</td>\n",
       "      <td>lyrica</td>\n",
       "      <td>93965</td>\n",
       "      <td>5</td>\n",
       "      <td>5</td>\n",
       "      <td>After using Lyrica for 3 weeks it really ly wo...</td>\n",
       "      <td>5</td>\n",
       "      <td>Male</td>\n",
       "      <td>[Drowsiness ,   dizziness  ,   dry mouth  ,   ...</td>\n",
       "      <td>0</td>\n",
       "      <td>6</td>\n",
       "      <td>1</td>\n",
       "    </tr>\n",
       "    <tr>\n",
       "      <th>...</th>\n",
       "      <td>...</td>\n",
       "      <td>...</td>\n",
       "      <td>...</td>\n",
       "      <td>...</td>\n",
       "      <td>...</td>\n",
       "      <td>...</td>\n",
       "      <td>...</td>\n",
       "      <td>...</td>\n",
       "      <td>...</td>\n",
       "      <td>...</td>\n",
       "      <td>...</td>\n",
       "      <td>...</td>\n",
       "      <td>...</td>\n",
       "      <td>...</td>\n",
       "    </tr>\n",
       "    <tr>\n",
       "      <th>362517</th>\n",
       "      <td></td>\n",
       "      <td>Stop Smoking</td>\n",
       "      <td>3/31/2010</td>\n",
       "      <td>chantix</td>\n",
       "      <td>144470</td>\n",
       "      <td>4</td>\n",
       "      <td>4</td>\n",
       "      <td>my husband and i are on chantix. saturday apri...</td>\n",
       "      <td>4</td>\n",
       "      <td></td>\n",
       "      <td>[Nausea  ,   headache  ,   vomiting  ,  drowsi...</td>\n",
       "      <td>3</td>\n",
       "      <td>9</td>\n",
       "      <td>2</td>\n",
       "    </tr>\n",
       "    <tr>\n",
       "      <th>362571</th>\n",
       "      <td></td>\n",
       "      <td>Stop Smoking</td>\n",
       "      <td>1/19/2010</td>\n",
       "      <td>chantix</td>\n",
       "      <td>144470</td>\n",
       "      <td>5</td>\n",
       "      <td>5</td>\n",
       "      <td></td>\n",
       "      <td>3</td>\n",
       "      <td></td>\n",
       "      <td>[Nausea  ,   headache  ,   vomiting  ,  drowsi...</td>\n",
       "      <td>0</td>\n",
       "      <td>9</td>\n",
       "      <td>2</td>\n",
       "    </tr>\n",
       "    <tr>\n",
       "      <th>362598</th>\n",
       "      <td></td>\n",
       "      <td>Stop Smoking</td>\n",
       "      <td>12/9/2009</td>\n",
       "      <td>chantix</td>\n",
       "      <td>144470</td>\n",
       "      <td>5</td>\n",
       "      <td>5</td>\n",
       "      <td></td>\n",
       "      <td>1</td>\n",
       "      <td>Male</td>\n",
       "      <td>[Nausea  ,   headache  ,   vomiting  ,  drowsi...</td>\n",
       "      <td>1</td>\n",
       "      <td>9</td>\n",
       "      <td>2</td>\n",
       "    </tr>\n",
       "    <tr>\n",
       "      <th>362645</th>\n",
       "      <td></td>\n",
       "      <td>Stop Smoking</td>\n",
       "      <td>2/26/2009</td>\n",
       "      <td>chantix</td>\n",
       "      <td>144470</td>\n",
       "      <td>5</td>\n",
       "      <td>3</td>\n",
       "      <td>I have just started to take this medication. T...</td>\n",
       "      <td>3</td>\n",
       "      <td></td>\n",
       "      <td>[Nausea  ,   headache  ,   vomiting  ,  drowsi...</td>\n",
       "      <td>9</td>\n",
       "      <td>9</td>\n",
       "      <td>2</td>\n",
       "    </tr>\n",
       "    <tr>\n",
       "      <th>362802</th>\n",
       "      <td></td>\n",
       "      <td>Other</td>\n",
       "      <td>11/14/2008</td>\n",
       "      <td>chantix</td>\n",
       "      <td>144470</td>\n",
       "      <td>2</td>\n",
       "      <td>3</td>\n",
       "      <td>My dad strated taking Chantix about 1 month ag...</td>\n",
       "      <td>1</td>\n",
       "      <td></td>\n",
       "      <td>[Nausea  ,   headache  ,   vomiting  ,  drowsi...</td>\n",
       "      <td>16</td>\n",
       "      <td>9</td>\n",
       "      <td>2</td>\n",
       "    </tr>\n",
       "  </tbody>\n",
       "</table>\n",
       "<p>12145 rows × 14 columns</p>\n",
       "</div>"
      ],
      "text/plain": [
       "       Age                         Condition        Date     Drug  DrugId  \\\n",
       "12                             Birth Control    7/3/2018     lyza  164750   \n",
       "73          Abnormally Long or Heavy Periods   10/3/2012  lysteda  154120   \n",
       "91          Abnormally Long or Heavy Periods   4/10/2012  lysteda  154120   \n",
       "184                         Neuropathic Pain   2/29/2020   lyrica   93965   \n",
       "185                  Nerve Pain after Herpes   2/24/2020   lyrica   93965   \n",
       "...     ..                               ...         ...      ...     ...   \n",
       "362517                          Stop Smoking   3/31/2010  chantix  144470   \n",
       "362571                          Stop Smoking   1/19/2010  chantix  144470   \n",
       "362598                          Stop Smoking   12/9/2009  chantix  144470   \n",
       "362645                          Stop Smoking   2/26/2009  chantix  144470   \n",
       "362802                                 Other  11/14/2008  chantix  144470   \n",
       "\n",
       "        EaseofUse  Effectiveness  \\\n",
       "12              2              1   \n",
       "73              5              5   \n",
       "91              3              4   \n",
       "184             5              5   \n",
       "185             5              5   \n",
       "...           ...            ...   \n",
       "362517          4              4   \n",
       "362571          5              5   \n",
       "362598          5              5   \n",
       "362645          5              3   \n",
       "362802          2              3   \n",
       "\n",
       "                                                  Reviews  Satisfaction  \\\n",
       "12      This stuff needs to be removed from the market...             1   \n",
       "73      54 YO with uterine fibroids and HEAVY clotting...             5   \n",
       "91      I am 45 years old with fibroids. I have had he...             1   \n",
       "184     No Script or health Insurance needed to place ...             5   \n",
       "185     After using Lyrica for 3 weeks it really ly wo...             5   \n",
       "...                                                   ...           ...   \n",
       "362517  my husband and i are on chantix. saturday apri...             4   \n",
       "362571                                                                3   \n",
       "362598                                                                1   \n",
       "362645  I have just started to take this medication. T...             3   \n",
       "362802  My dad strated taking Chantix about 1 month ag...             1   \n",
       "\n",
       "           Sex                                              Sides  \\\n",
       "12      Female  [Nausea  ,   vomiting  ,   headache  ,   bloat...   \n",
       "73              [Nausea  ,   vomiting  ,   diarrhea  ,  and  m...   \n",
       "91      Female  [Nausea  ,   vomiting  ,   diarrhea  ,  and  m...   \n",
       "184             [Drowsiness ,   dizziness  ,   dry mouth  ,   ...   \n",
       "185       Male  [Drowsiness ,   dizziness  ,   dry mouth  ,   ...   \n",
       "...        ...                                                ...   \n",
       "362517          [Nausea  ,   headache  ,   vomiting  ,  drowsi...   \n",
       "362571          [Nausea  ,   headache  ,   vomiting  ,  drowsi...   \n",
       "362598    Male  [Nausea  ,   headache  ,   vomiting  ,  drowsi...   \n",
       "362645          [Nausea  ,   headache  ,   vomiting  ,  drowsi...   \n",
       "362802          [Nausea  ,   headache  ,   vomiting  ,  drowsi...   \n",
       "\n",
       "        UsefulCount  Sides_count  Sides_class  \n",
       "12                0            6            1  \n",
       "73               10            4            0  \n",
       "91               18            4            0  \n",
       "184              12            6            1  \n",
       "185               0            6            1  \n",
       "...             ...          ...          ...  \n",
       "362517            3            9            2  \n",
       "362571            0            9            2  \n",
       "362598            1            9            2  \n",
       "362645            9            9            2  \n",
       "362802           16            9            2  \n",
       "\n",
       "[12145 rows x 14 columns]"
      ]
     },
     "execution_count": 31,
     "metadata": {},
     "output_type": "execute_result"
    }
   ],
   "source": [
    "data[data['Age']==' ']"
   ]
  },
  {
   "cell_type": "code",
   "execution_count": 32,
   "id": "16be98ac",
   "metadata": {},
   "outputs": [],
   "source": [
    "age_null=data.index[data['Age'].apply(lambda x: x==' ')].tolist()\n",
    "\n",
    "for i in age_null:\n",
    "    data.loc[data.index==i,'Age']='Not mentioned'  "
   ]
  },
  {
   "cell_type": "code",
   "execution_count": 33,
   "id": "e4089079",
   "metadata": {},
   "outputs": [
    {
     "data": {
      "text/plain": [
       "count     361826\n",
       "unique        12\n",
       "top        45-54\n",
       "freq       79857\n",
       "Name: Age, dtype: object"
      ]
     },
     "execution_count": 33,
     "metadata": {},
     "output_type": "execute_result"
    }
   ],
   "source": [
    "data['Age'].describe()"
   ]
  },
  {
   "cell_type": "code",
   "execution_count": 34,
   "id": "9b6ebc80",
   "metadata": {},
   "outputs": [
    {
     "data": {
      "image/png": "[encoded data removed]",
      "text/plain": [
       "<Figure size 720x360 with 1 Axes>"
      ]
     },
     "metadata": {
      "needs_background": "light"
     },
     "output_type": "display_data"
    },
    {
     "data": {
      "text/plain": [
       "<Figure size 1080x360 with 0 Axes>"
      ]
     },
     "metadata": {},
     "output_type": "display_data"
    }
   ],
   "source": [
    "plt.figure(figsize=(10,5))\n",
    "sns.countplot(x='Age',data=data)\n",
    "plt.title(\"Count Plot of Age\" )\n",
    "plt.figure(figsize=(15,5))\n",
    "plt.tight_layout()\n",
    "plt.show()"
   ]
  },
  {
   "cell_type": "markdown",
   "id": "5288d4f1",
   "metadata": {},
   "source": [
    "There Are 12 unique values in Age with 45-54 topping with arround 80000"
   ]
  },
  {
   "cell_type": "code",
   "execution_count": 35,
   "id": "31eaf1e8",
   "metadata": {},
   "outputs": [
    {
     "data": {
      "image/png": "[encoded data removed]",
      "text/plain": [
       "<Figure size 1080x360 with 1 Axes>"
      ]
     },
     "metadata": {
      "needs_background": "light"
     },
     "output_type": "display_data"
    },
    {
     "data": {
      "text/plain": [
       "<Figure size 1080x360 with 0 Axes>"
      ]
     },
     "metadata": {},
     "output_type": "display_data"
    }
   ],
   "source": [
    "plt.figure(figsize=(15,5))\n",
    "sns.countplot(x=\"Sides_class\", hue='Age', data=data)\n",
    "plt.title(\"Count Plot of Age and side_class\" )\n",
    "plt.figure(figsize=(15,5))\n",
    "plt.tight_layout()"
   ]
  },
  {
   "cell_type": "markdown",
   "id": "8cdbab2e",
   "metadata": {},
   "source": [
    "#### Condition"
   ]
  },
  {
   "cell_type": "code",
   "execution_count": 36,
   "id": "21b0a840",
   "metadata": {},
   "outputs": [
    {
     "data": {
      "text/plain": [
       "count     361826\n",
       "unique      1805\n",
       "top        Other\n",
       "freq       49332\n",
       "Name: Condition, dtype: object"
      ]
     },
     "execution_count": 36,
     "metadata": {},
     "output_type": "execute_result"
    }
   ],
   "source": [
    "data['Condition'].describe()"
   ]
  },
  {
   "cell_type": "code",
   "execution_count": 37,
   "id": "ec3b80af",
   "metadata": {},
   "outputs": [
    {
     "data": {
      "text/plain": [
       "array(['Stuffy Nose', 'Cold Symptoms', 'Other', ...,\n",
       "       'Combative and Explosive Behavior', 'Lead Poisoning',\n",
       "       'Poisoning from Swallowed Unknown Substance'], dtype=object)"
      ]
     },
     "execution_count": 37,
     "metadata": {},
     "output_type": "execute_result"
    }
   ],
   "source": [
    "data['Condition'].unique()"
   ]
  },
  {
   "cell_type": "code",
   "execution_count": 38,
   "id": "5c8275ba",
   "metadata": {},
   "outputs": [
    {
     "data": {
      "text/plain": [
       "43"
      ]
     },
     "execution_count": 38,
     "metadata": {},
     "output_type": "execute_result"
    }
   ],
   "source": [
    "data[data['Condition']==' '].Condition.count()"
   ]
  },
  {
   "cell_type": "code",
   "execution_count": 39,
   "id": "333f2946",
   "metadata": {},
   "outputs": [],
   "source": [
    "condition_null=data.index[data['Condition'].apply(lambda x: x==' ')].tolist()\n",
    "\n",
    "for i in condition_null:\n",
    "    data.loc[data.index==i,'Condition']='Not mentioned'"
   ]
  },
  {
   "cell_type": "markdown",
   "id": "817a798b",
   "metadata": {},
   "source": [
    "##### Check the top 20 conditions"
   ]
  },
  {
   "cell_type": "code",
   "execution_count": 40,
   "id": "0fb89aa4",
   "metadata": {},
   "outputs": [
    {
     "data": {
      "image/png": "[encoded data removed]",
      "text/plain": [
       "<Figure size 864x432 with 1 Axes>"
      ]
     },
     "metadata": {
      "needs_background": "light"
     },
     "output_type": "display_data"
    }
   ],
   "source": [
    "#plot a bargraph to check top 20 conditions\n",
    "plt.figure(figsize=(12,6))\n",
    "conditions =data['Condition'].value_counts(ascending = False).head(20)\n",
    "plt.bar(conditions.index,conditions.values)\n",
    "plt.title('Top-20 Conditions',fontsize = 20)\n",
    "plt.xticks(rotation=90)\n",
    "plt.ylabel('count')\n",
    "plt.show()"
   ]
  },
  {
   "cell_type": "markdown",
   "id": "649087c7",
   "metadata": {},
   "source": [
    "Others is topping with around 50000"
   ]
  },
  {
   "cell_type": "markdown",
   "id": "e31ef157",
   "metadata": {},
   "source": [
    "Most of the conditions for top 20 conditions are between 5000 to50000"
   ]
  },
  {
   "cell_type": "code",
   "execution_count": 41,
   "id": "a502336b",
   "metadata": {},
   "outputs": [
    {
     "data": {
      "image/png": "[encoded data removed]",
      "text/plain": [
       "<Figure size 864x432 with 1 Axes>"
      ]
     },
     "metadata": {
      "needs_background": "light"
     },
     "output_type": "display_data"
    }
   ],
   "source": [
    "#plot a bargraph to check bottom 20 conditions\n",
    "plt.figure(figsize=(12,6))\n",
    "conditions_bottom =data['Condition'].value_counts(ascending = False).tail(20)\n",
    "plt.bar(conditions_bottom.index,conditions_bottom.values)\n",
    "plt.title('Bottom-20 Conditions',fontsize = 20)\n",
    "plt.xticks(rotation=90)\n",
    "plt.ylabel('count')\n",
    "plt.show()"
   ]
  },
  {
   "cell_type": "markdown",
   "id": "4fa877a2",
   "metadata": {},
   "source": [
    "Bottom 20 conditions have just single counts in our dataset. They may be the rare conditions."
   ]
  },
  {
   "cell_type": "code",
   "execution_count": 42,
   "id": "d55a461e",
   "metadata": {},
   "outputs": [],
   "source": [
    "\n",
    "table=pd.crosstab(index=data['Sides_class'],columns=data['Condition'])"
   ]
  },
  {
   "cell_type": "code",
   "execution_count": 43,
   "id": "2f9a72cc",
   "metadata": {},
   "outputs": [
    {
     "data": {
      "text/html": [
       "<div>\n",
       "<style scoped>\n",
       "    .dataframe tbody tr th:only-of-type {\n",
       "        vertical-align: middle;\n",
       "    }\n",
       "\n",
       "    .dataframe tbody tr th {\n",
       "        vertical-align: top;\n",
       "    }\n",
       "\n",
       "    .dataframe thead th {\n",
       "        text-align: right;\n",
       "    }\n",
       "</style>\n",
       "<table border=\"1\" class=\"dataframe\">\n",
       "  <thead>\n",
       "    <tr style=\"text-align: right;\">\n",
       "      <th>Condition</th>\n",
       "      <th>\"Change of Life\" Signs</th>\n",
       "      <th>A Breaking Out of the Skin Resembling Acne</th>\n",
       "      <th>A Chronic Multisystem Inflammatory Disorder</th>\n",
       "      <th>A Condition in which Hair Falls Out in Patches</th>\n",
       "      <th>A Condition of Bladder Dysfunction from Nerve Disorder</th>\n",
       "      <th>A Feeling of Restlessness with Inability to Sit Still</th>\n",
       "      <th>A Fungal Infection - Aspergillosis</th>\n",
       "      <th>A Hereditary Progressive Anemia of Unknown Cause</th>\n",
       "      <th>A Lack of Fatty Acids</th>\n",
       "      <th>A Malignant Pigmented Mole or Tumor</th>\n",
       "      <th>...</th>\n",
       "      <th>malignant tumor or cancer</th>\n",
       "      <th>neurotrophic keratitis</th>\n",
       "      <th>non-metastatic castration-resistant prostate cancer</th>\n",
       "      <th>osteoporosis in postmenopausal woman at high risk for fracture</th>\n",
       "      <th>pemphigus vulgaris</th>\n",
       "      <th>primary progressive multiple sclerosis</th>\n",
       "      <th>raised seborrheic keratosis</th>\n",
       "      <th>refractory lung disease due to MAC</th>\n",
       "      <th>renal cell carcinoma adjuvant therapy following nephrectomy</th>\n",
       "      <th>seborrheic dermatitis of scalp</th>\n",
       "    </tr>\n",
       "    <tr>\n",
       "      <th>Sides_class</th>\n",
       "      <th></th>\n",
       "      <th></th>\n",
       "      <th></th>\n",
       "      <th></th>\n",
       "      <th></th>\n",
       "      <th></th>\n",
       "      <th></th>\n",
       "      <th></th>\n",
       "      <th></th>\n",
       "      <th></th>\n",
       "      <th></th>\n",
       "      <th></th>\n",
       "      <th></th>\n",
       "      <th></th>\n",
       "      <th></th>\n",
       "      <th></th>\n",
       "      <th></th>\n",
       "      <th></th>\n",
       "      <th></th>\n",
       "      <th></th>\n",
       "      <th></th>\n",
       "    </tr>\n",
       "  </thead>\n",
       "  <tbody>\n",
       "    <tr>\n",
       "      <th>0</th>\n",
       "      <td>42</td>\n",
       "      <td>3</td>\n",
       "      <td>0</td>\n",
       "      <td>1</td>\n",
       "      <td>0</td>\n",
       "      <td>0</td>\n",
       "      <td>4</td>\n",
       "      <td>0</td>\n",
       "      <td>0</td>\n",
       "      <td>1</td>\n",
       "      <td>...</td>\n",
       "      <td>3</td>\n",
       "      <td>0</td>\n",
       "      <td>1</td>\n",
       "      <td>4</td>\n",
       "      <td>0</td>\n",
       "      <td>1</td>\n",
       "      <td>4</td>\n",
       "      <td>0</td>\n",
       "      <td>0</td>\n",
       "      <td>5</td>\n",
       "    </tr>\n",
       "    <tr>\n",
       "      <th>1</th>\n",
       "      <td>1719</td>\n",
       "      <td>0</td>\n",
       "      <td>11</td>\n",
       "      <td>3</td>\n",
       "      <td>9</td>\n",
       "      <td>259</td>\n",
       "      <td>12</td>\n",
       "      <td>29</td>\n",
       "      <td>1</td>\n",
       "      <td>0</td>\n",
       "      <td>...</td>\n",
       "      <td>1</td>\n",
       "      <td>2</td>\n",
       "      <td>1</td>\n",
       "      <td>0</td>\n",
       "      <td>3</td>\n",
       "      <td>0</td>\n",
       "      <td>0</td>\n",
       "      <td>1</td>\n",
       "      <td>0</td>\n",
       "      <td>0</td>\n",
       "    </tr>\n",
       "    <tr>\n",
       "      <th>2</th>\n",
       "      <td>807</td>\n",
       "      <td>0</td>\n",
       "      <td>0</td>\n",
       "      <td>0</td>\n",
       "      <td>7</td>\n",
       "      <td>1</td>\n",
       "      <td>1</td>\n",
       "      <td>1</td>\n",
       "      <td>0</td>\n",
       "      <td>9</td>\n",
       "      <td>...</td>\n",
       "      <td>2</td>\n",
       "      <td>0</td>\n",
       "      <td>0</td>\n",
       "      <td>2</td>\n",
       "      <td>0</td>\n",
       "      <td>0</td>\n",
       "      <td>0</td>\n",
       "      <td>0</td>\n",
       "      <td>1</td>\n",
       "      <td>0</td>\n",
       "    </tr>\n",
       "    <tr>\n",
       "      <th>3</th>\n",
       "      <td>0</td>\n",
       "      <td>0</td>\n",
       "      <td>0</td>\n",
       "      <td>0</td>\n",
       "      <td>14</td>\n",
       "      <td>0</td>\n",
       "      <td>0</td>\n",
       "      <td>0</td>\n",
       "      <td>0</td>\n",
       "      <td>0</td>\n",
       "      <td>...</td>\n",
       "      <td>0</td>\n",
       "      <td>0</td>\n",
       "      <td>0</td>\n",
       "      <td>0</td>\n",
       "      <td>0</td>\n",
       "      <td>0</td>\n",
       "      <td>0</td>\n",
       "      <td>0</td>\n",
       "      <td>0</td>\n",
       "      <td>0</td>\n",
       "    </tr>\n",
       "  </tbody>\n",
       "</table>\n",
       "<p>4 rows × 1805 columns</p>\n",
       "</div>"
      ],
      "text/plain": [
       "Condition    \"Change of Life\" Signs  \\\n",
       "Sides_class                           \n",
       "0                                42   \n",
       "1                              1719   \n",
       "2                               807   \n",
       "3                                 0   \n",
       "\n",
       "Condition    A Breaking Out of the Skin Resembling Acne  \\\n",
       "Sides_class                                               \n",
       "0                                                     3   \n",
       "1                                                     0   \n",
       "2                                                     0   \n",
       "3                                                     0   \n",
       "\n",
       "Condition    A Chronic Multisystem Inflammatory Disorder  \\\n",
       "Sides_class                                                \n",
       "0                                                      0   \n",
       "1                                                     11   \n",
       "2                                                      0   \n",
       "3                                                      0   \n",
       "\n",
       "Condition    A Condition in which Hair Falls Out in Patches  \\\n",
       "Sides_class                                                   \n",
       "0                                                         1   \n",
       "1                                                         3   \n",
       "2                                                         0   \n",
       "3                                                         0   \n",
       "\n",
       "Condition    A Condition of Bladder Dysfunction from Nerve Disorder  \\\n",
       "Sides_class                                                           \n",
       "0                                                            0        \n",
       "1                                                            9        \n",
       "2                                                            7        \n",
       "3                                                           14        \n",
       "\n",
       "Condition    A Feeling of Restlessness with Inability to Sit Still  \\\n",
       "Sides_class                                                          \n",
       "0                                                            0       \n",
       "1                                                          259       \n",
       "2                                                            1       \n",
       "3                                                            0       \n",
       "\n",
       "Condition    A Fungal Infection - Aspergillosis  \\\n",
       "Sides_class                                       \n",
       "0                                             4   \n",
       "1                                            12   \n",
       "2                                             1   \n",
       "3                                             0   \n",
       "\n",
       "Condition    A Hereditary Progressive Anemia of Unknown Cause  \\\n",
       "Sides_class                                                     \n",
       "0                                                           0   \n",
       "1                                                          29   \n",
       "2                                                           1   \n",
       "3                                                           0   \n",
       "\n",
       "Condition    A Lack of Fatty Acids  A Malignant Pigmented Mole or Tumor  ...  \\\n",
       "Sides_class                                                              ...   \n",
       "0                                0                                    1  ...   \n",
       "1                                1                                    0  ...   \n",
       "2                                0                                    9  ...   \n",
       "3                                0                                    0  ...   \n",
       "\n",
       "Condition    malignant tumor or cancer  neurotrophic keratitis  \\\n",
       "Sides_class                                                      \n",
       "0                                    3                       0   \n",
       "1                                    1                       2   \n",
       "2                                    2                       0   \n",
       "3                                    0                       0   \n",
       "\n",
       "Condition    non-metastatic castration-resistant prostate cancer  \\\n",
       "Sides_class                                                        \n",
       "0                                                            1     \n",
       "1                                                            1     \n",
       "2                                                            0     \n",
       "3                                                            0     \n",
       "\n",
       "Condition    osteoporosis in postmenopausal woman at high risk for fracture  \\\n",
       "Sides_class                                                                   \n",
       "0                                                            4                \n",
       "1                                                            0                \n",
       "2                                                            2                \n",
       "3                                                            0                \n",
       "\n",
       "Condition    pemphigus vulgaris  primary progressive multiple sclerosis  \\\n",
       "Sides_class                                                               \n",
       "0                             0                                       1   \n",
       "1                             3                                       0   \n",
       "2                             0                                       0   \n",
       "3                             0                                       0   \n",
       "\n",
       "Condition    raised seborrheic keratosis  refractory lung disease due to MAC  \\\n",
       "Sides_class                                                                    \n",
       "0                                      4                                   0   \n",
       "1                                      0                                   1   \n",
       "2                                      0                                   0   \n",
       "3                                      0                                   0   \n",
       "\n",
       "Condition    renal cell carcinoma adjuvant therapy following nephrectomy  \\\n",
       "Sides_class                                                                \n",
       "0                                                            0             \n",
       "1                                                            0             \n",
       "2                                                            1             \n",
       "3                                                            0             \n",
       "\n",
       "Condition    seborrheic dermatitis of scalp  \n",
       "Sides_class                                  \n",
       "0                                         5  \n",
       "1                                         0  \n",
       "2                                         0  \n",
       "3                                         0  \n",
       "\n",
       "[4 rows x 1805 columns]"
      ]
     },
     "execution_count": 43,
     "metadata": {},
     "output_type": "execute_result"
    }
   ],
   "source": [
    "table"
   ]
  },
  {
   "cell_type": "markdown",
   "id": "68f4a7c0",
   "metadata": {},
   "source": [
    "#### Drug"
   ]
  },
  {
   "cell_type": "code",
   "execution_count": 44,
   "id": "c51b453a",
   "metadata": {},
   "outputs": [
    {
     "data": {
      "text/plain": [
       "count       361826\n",
       "unique        7093\n",
       "top       cymbalta\n",
       "freq          4646\n",
       "Name: Drug, dtype: object"
      ]
     },
     "execution_count": 44,
     "metadata": {},
     "output_type": "execute_result"
    }
   ],
   "source": [
    "data['Drug'].describe()"
   ]
  },
  {
   "cell_type": "code",
   "execution_count": 45,
   "id": "2526bd79",
   "metadata": {},
   "outputs": [
    {
     "data": {
      "text/html": [
       "<div>\n",
       "<style scoped>\n",
       "    .dataframe tbody tr th:only-of-type {\n",
       "        vertical-align: middle;\n",
       "    }\n",
       "\n",
       "    .dataframe tbody tr th {\n",
       "        vertical-align: top;\n",
       "    }\n",
       "\n",
       "    .dataframe thead th {\n",
       "        text-align: right;\n",
       "    }\n",
       "</style>\n",
       "<table border=\"1\" class=\"dataframe\">\n",
       "  <thead>\n",
       "    <tr style=\"text-align: right;\">\n",
       "      <th></th>\n",
       "      <th>DrugId</th>\n",
       "      <th>Drug</th>\n",
       "    </tr>\n",
       "  </thead>\n",
       "  <tbody>\n",
       "    <tr>\n",
       "      <th>0</th>\n",
       "      <td>146724</td>\n",
       "      <td>25dph-7.5peh</td>\n",
       "    </tr>\n",
       "    <tr>\n",
       "      <th>1</th>\n",
       "      <td>146724</td>\n",
       "      <td>25dph-7.5peh</td>\n",
       "    </tr>\n",
       "    <tr>\n",
       "      <th>2</th>\n",
       "      <td>144731</td>\n",
       "      <td>warfarin (bulk) 100 % powder</td>\n",
       "    </tr>\n",
       "    <tr>\n",
       "      <th>3</th>\n",
       "      <td>144731</td>\n",
       "      <td>warfarin (bulk) 100 % powder</td>\n",
       "    </tr>\n",
       "    <tr>\n",
       "      <th>4</th>\n",
       "      <td>144731</td>\n",
       "      <td>warfarin (bulk) 100 % powder</td>\n",
       "    </tr>\n",
       "    <tr>\n",
       "      <th>...</th>\n",
       "      <td>...</td>\n",
       "      <td>...</td>\n",
       "    </tr>\n",
       "    <tr>\n",
       "      <th>362801</th>\n",
       "      <td>144470</td>\n",
       "      <td>chantix</td>\n",
       "    </tr>\n",
       "    <tr>\n",
       "      <th>362802</th>\n",
       "      <td>144470</td>\n",
       "      <td>chantix</td>\n",
       "    </tr>\n",
       "    <tr>\n",
       "      <th>362803</th>\n",
       "      <td>144470</td>\n",
       "      <td>chantix</td>\n",
       "    </tr>\n",
       "    <tr>\n",
       "      <th>362804</th>\n",
       "      <td>144470</td>\n",
       "      <td>chantix</td>\n",
       "    </tr>\n",
       "    <tr>\n",
       "      <th>362805</th>\n",
       "      <td>144470</td>\n",
       "      <td>chantix</td>\n",
       "    </tr>\n",
       "  </tbody>\n",
       "</table>\n",
       "<p>361826 rows × 2 columns</p>\n",
       "</div>"
      ],
      "text/plain": [
       "        DrugId                          Drug\n",
       "0       146724                  25dph-7.5peh\n",
       "1       146724                  25dph-7.5peh\n",
       "2       144731  warfarin (bulk) 100 % powder\n",
       "3       144731  warfarin (bulk) 100 % powder\n",
       "4       144731  warfarin (bulk) 100 % powder\n",
       "...        ...                           ...\n",
       "362801  144470                       chantix\n",
       "362802  144470                       chantix\n",
       "362803  144470                       chantix\n",
       "362804  144470                       chantix\n",
       "362805  144470                       chantix\n",
       "\n",
       "[361826 rows x 2 columns]"
      ]
     },
     "execution_count": 45,
     "metadata": {},
     "output_type": "execute_result"
    }
   ],
   "source": [
    "data[['DrugId','Drug']]"
   ]
  },
  {
   "cell_type": "code",
   "execution_count": 46,
   "id": "c0e63d69",
   "metadata": {},
   "outputs": [
    {
     "data": {
      "image/png": "[encoded data removed]",
      "text/plain": [
       "<Figure size 864x432 with 1 Axes>"
      ]
     },
     "metadata": {
      "needs_background": "light"
     },
     "output_type": "display_data"
    }
   ],
   "source": [
    "#plot a bargraph to check top 20 Drug\n",
    "plt.figure(figsize=(12,6))\n",
    "drugs =data['Drug'].value_counts(ascending = False).head(20)\n",
    "plt.bar(drugs.index,drugs.values)\n",
    "plt.title('Top-20 Drugs',fontsize = 20)\n",
    "plt.xticks(rotation=90)\n",
    "plt.ylabel('count')\n",
    "plt.show()"
   ]
  },
  {
   "cell_type": "markdown",
   "id": "0ee05b84",
   "metadata": {},
   "source": [
    "Cymbalta is topping with arrond 5000"
   ]
  },
  {
   "cell_type": "code",
   "execution_count": 47,
   "id": "5e9263cf",
   "metadata": {},
   "outputs": [
    {
     "data": {
      "text/html": [
       "<div>\n",
       "<style scoped>\n",
       "    .dataframe tbody tr th:only-of-type {\n",
       "        vertical-align: middle;\n",
       "    }\n",
       "\n",
       "    .dataframe tbody tr th {\n",
       "        vertical-align: top;\n",
       "    }\n",
       "\n",
       "    .dataframe thead th {\n",
       "        text-align: right;\n",
       "    }\n",
       "</style>\n",
       "<table border=\"1\" class=\"dataframe\">\n",
       "  <thead>\n",
       "    <tr style=\"text-align: right;\">\n",
       "      <th>Drug</th>\n",
       "      <th>12 hour decongestant</th>\n",
       "      <th>12 hour nasal relief spray, non-aerosol</th>\n",
       "      <th>15dm-100gfn-5peh</th>\n",
       "      <th>20dm-4cpm</th>\n",
       "      <th>25dph-7.5peh</th>\n",
       "      <th>4 way spray, non-aerosol</th>\n",
       "      <th>40pse-400gfn-20dm</th>\n",
       "      <th>5-hydroxy-l-tryptophan powder</th>\n",
       "      <th>5-hydroxytryptophan (5-htp) capsule</th>\n",
       "      <th>60pse-400gfn</th>\n",
       "      <th>...</th>\n",
       "      <th>zyprexa vial</th>\n",
       "      <th>zyprexa zydis</th>\n",
       "      <th>zyrtec</th>\n",
       "      <th>zyrtec-d</th>\n",
       "      <th>zytaze</th>\n",
       "      <th>zytiga</th>\n",
       "      <th>zyvox</th>\n",
       "      <th>zyvox solution, intravenous</th>\n",
       "      <th>zyvox suspension, reconstituted</th>\n",
       "      <th>zzzquil</th>\n",
       "    </tr>\n",
       "    <tr>\n",
       "      <th>Sides_class</th>\n",
       "      <th></th>\n",
       "      <th></th>\n",
       "      <th></th>\n",
       "      <th></th>\n",
       "      <th></th>\n",
       "      <th></th>\n",
       "      <th></th>\n",
       "      <th></th>\n",
       "      <th></th>\n",
       "      <th></th>\n",
       "      <th></th>\n",
       "      <th></th>\n",
       "      <th></th>\n",
       "      <th></th>\n",
       "      <th></th>\n",
       "      <th></th>\n",
       "      <th></th>\n",
       "      <th></th>\n",
       "      <th></th>\n",
       "      <th></th>\n",
       "      <th></th>\n",
       "    </tr>\n",
       "  </thead>\n",
       "  <tbody>\n",
       "    <tr>\n",
       "      <th>0</th>\n",
       "      <td>0</td>\n",
       "      <td>0</td>\n",
       "      <td>0</td>\n",
       "      <td>0</td>\n",
       "      <td>0</td>\n",
       "      <td>0</td>\n",
       "      <td>0</td>\n",
       "      <td>2</td>\n",
       "      <td>4</td>\n",
       "      <td>3</td>\n",
       "      <td>...</td>\n",
       "      <td>0</td>\n",
       "      <td>0</td>\n",
       "      <td>364</td>\n",
       "      <td>0</td>\n",
       "      <td>1</td>\n",
       "      <td>29</td>\n",
       "      <td>0</td>\n",
       "      <td>0</td>\n",
       "      <td>0</td>\n",
       "      <td>0</td>\n",
       "    </tr>\n",
       "    <tr>\n",
       "      <th>1</th>\n",
       "      <td>1</td>\n",
       "      <td>1</td>\n",
       "      <td>1</td>\n",
       "      <td>1</td>\n",
       "      <td>2</td>\n",
       "      <td>1</td>\n",
       "      <td>3</td>\n",
       "      <td>0</td>\n",
       "      <td>0</td>\n",
       "      <td>0</td>\n",
       "      <td>...</td>\n",
       "      <td>0</td>\n",
       "      <td>20</td>\n",
       "      <td>0</td>\n",
       "      <td>63</td>\n",
       "      <td>0</td>\n",
       "      <td>0</td>\n",
       "      <td>45</td>\n",
       "      <td>16</td>\n",
       "      <td>45</td>\n",
       "      <td>147</td>\n",
       "    </tr>\n",
       "    <tr>\n",
       "      <th>2</th>\n",
       "      <td>0</td>\n",
       "      <td>0</td>\n",
       "      <td>0</td>\n",
       "      <td>0</td>\n",
       "      <td>0</td>\n",
       "      <td>0</td>\n",
       "      <td>0</td>\n",
       "      <td>0</td>\n",
       "      <td>0</td>\n",
       "      <td>0</td>\n",
       "      <td>...</td>\n",
       "      <td>7</td>\n",
       "      <td>0</td>\n",
       "      <td>0</td>\n",
       "      <td>0</td>\n",
       "      <td>0</td>\n",
       "      <td>0</td>\n",
       "      <td>0</td>\n",
       "      <td>0</td>\n",
       "      <td>0</td>\n",
       "      <td>0</td>\n",
       "    </tr>\n",
       "    <tr>\n",
       "      <th>3</th>\n",
       "      <td>0</td>\n",
       "      <td>0</td>\n",
       "      <td>0</td>\n",
       "      <td>0</td>\n",
       "      <td>0</td>\n",
       "      <td>0</td>\n",
       "      <td>0</td>\n",
       "      <td>0</td>\n",
       "      <td>0</td>\n",
       "      <td>0</td>\n",
       "      <td>...</td>\n",
       "      <td>0</td>\n",
       "      <td>0</td>\n",
       "      <td>0</td>\n",
       "      <td>0</td>\n",
       "      <td>0</td>\n",
       "      <td>0</td>\n",
       "      <td>0</td>\n",
       "      <td>0</td>\n",
       "      <td>0</td>\n",
       "      <td>0</td>\n",
       "    </tr>\n",
       "  </tbody>\n",
       "</table>\n",
       "<p>4 rows × 7093 columns</p>\n",
       "</div>"
      ],
      "text/plain": [
       "Drug         12 hour decongestant  12 hour nasal relief spray, non-aerosol  \\\n",
       "Sides_class                                                                  \n",
       "0                               0                                        0   \n",
       "1                               1                                        1   \n",
       "2                               0                                        0   \n",
       "3                               0                                        0   \n",
       "\n",
       "Drug         15dm-100gfn-5peh  20dm-4cpm  25dph-7.5peh  \\\n",
       "Sides_class                                              \n",
       "0                           0          0             0   \n",
       "1                           1          1             2   \n",
       "2                           0          0             0   \n",
       "3                           0          0             0   \n",
       "\n",
       "Drug         4 way spray, non-aerosol  40pse-400gfn-20dm  \\\n",
       "Sides_class                                                \n",
       "0                                   0                  0   \n",
       "1                                   1                  3   \n",
       "2                                   0                  0   \n",
       "3                                   0                  0   \n",
       "\n",
       "Drug         5-hydroxy-l-tryptophan powder  \\\n",
       "Sides_class                                  \n",
       "0                                        2   \n",
       "1                                        0   \n",
       "2                                        0   \n",
       "3                                        0   \n",
       "\n",
       "Drug         5-hydroxytryptophan (5-htp) capsule  60pse-400gfn  ...  \\\n",
       "Sides_class                                                     ...   \n",
       "0                                              4             3  ...   \n",
       "1                                              0             0  ...   \n",
       "2                                              0             0  ...   \n",
       "3                                              0             0  ...   \n",
       "\n",
       "Drug         zyprexa vial  zyprexa zydis  zyrtec  zyrtec-d  zytaze  zytiga  \\\n",
       "Sides_class                                                                  \n",
       "0                       0              0     364         0       1      29   \n",
       "1                       0             20       0        63       0       0   \n",
       "2                       7              0       0         0       0       0   \n",
       "3                       0              0       0         0       0       0   \n",
       "\n",
       "Drug         zyvox  zyvox solution, intravenous  \\\n",
       "Sides_class                                       \n",
       "0                0                            0   \n",
       "1               45                           16   \n",
       "2                0                            0   \n",
       "3                0                            0   \n",
       "\n",
       "Drug         zyvox suspension, reconstituted  zzzquil  \n",
       "Sides_class                                            \n",
       "0                                          0        0  \n",
       "1                                         45      147  \n",
       "2                                          0        0  \n",
       "3                                          0        0  \n",
       "\n",
       "[4 rows x 7093 columns]"
      ]
     },
     "execution_count": 47,
     "metadata": {},
     "output_type": "execute_result"
    }
   ],
   "source": [
    "table1=pd.crosstab(index=data['Sides_class'],columns=data['Drug'])\n",
    "table1"
   ]
  },
  {
   "cell_type": "markdown",
   "id": "65122374",
   "metadata": {},
   "source": [
    "Based on this we can say thais we can say that side effects higly depend on the drug name"
   ]
  },
  {
   "cell_type": "code",
   "execution_count": 48,
   "id": "a9447c1a",
   "metadata": {},
   "outputs": [
    {
     "data": {
      "text/plain": [
       "Index(['Age', 'Condition', 'Date', 'Drug', 'DrugId', 'EaseofUse',\n",
       "       'Effectiveness', 'Reviews', 'Satisfaction', 'Sex', 'Sides',\n",
       "       'UsefulCount', 'Sides_count', 'Sides_class'],\n",
       "      dtype='object')"
      ]
     },
     "execution_count": 48,
     "metadata": {},
     "output_type": "execute_result"
    }
   ],
   "source": [
    "data.columns"
   ]
  },
  {
   "cell_type": "markdown",
   "id": "235211f1",
   "metadata": {},
   "source": [
    "#### EaseofUse"
   ]
  },
  {
   "cell_type": "code",
   "execution_count": 49,
   "id": "b9b5d031",
   "metadata": {},
   "outputs": [
    {
     "data": {
      "text/plain": [
       "count    361826.000000\n",
       "mean          4.019573\n",
       "std           1.318334\n",
       "min           1.000000\n",
       "25%           3.000000\n",
       "50%           5.000000\n",
       "75%           5.000000\n",
       "max          10.000000\n",
       "Name: EaseofUse, dtype: float64"
      ]
     },
     "execution_count": 49,
     "metadata": {},
     "output_type": "execute_result"
    }
   ],
   "source": [
    "data.EaseofUse.describe()"
   ]
  },
  {
   "cell_type": "code",
   "execution_count": 50,
   "id": "a79ee7bb",
   "metadata": {},
   "outputs": [
    {
     "data": {
      "text/html": [
       "<div>\n",
       "<style scoped>\n",
       "    .dataframe tbody tr th:only-of-type {\n",
       "        vertical-align: middle;\n",
       "    }\n",
       "\n",
       "    .dataframe tbody tr th {\n",
       "        vertical-align: top;\n",
       "    }\n",
       "\n",
       "    .dataframe thead th {\n",
       "        text-align: right;\n",
       "    }\n",
       "</style>\n",
       "<table border=\"1\" class=\"dataframe\">\n",
       "  <thead>\n",
       "    <tr style=\"text-align: right;\">\n",
       "      <th></th>\n",
       "      <th>Age</th>\n",
       "      <th>Condition</th>\n",
       "      <th>Date</th>\n",
       "      <th>Drug</th>\n",
       "      <th>DrugId</th>\n",
       "      <th>EaseofUse</th>\n",
       "      <th>Effectiveness</th>\n",
       "      <th>Reviews</th>\n",
       "      <th>Satisfaction</th>\n",
       "      <th>Sex</th>\n",
       "      <th>Sides</th>\n",
       "      <th>UsefulCount</th>\n",
       "      <th>Sides_count</th>\n",
       "      <th>Sides_class</th>\n",
       "    </tr>\n",
       "  </thead>\n",
       "  <tbody>\n",
       "  </tbody>\n",
       "</table>\n",
       "</div>"
      ],
      "text/plain": [
       "Empty DataFrame\n",
       "Columns: [Age, Condition, Date, Drug, DrugId, EaseofUse, Effectiveness, Reviews, Satisfaction, Sex, Sides, UsefulCount, Sides_count, Sides_class]\n",
       "Index: []"
      ]
     },
     "execution_count": 50,
     "metadata": {},
     "output_type": "execute_result"
    }
   ],
   "source": [
    "data[data['EaseofUse']=='']"
   ]
  },
  {
   "cell_type": "code",
   "execution_count": 51,
   "id": "4aba84a4",
   "metadata": {},
   "outputs": [
    {
     "data": {
      "text/plain": [
       "5     192212\n",
       "4      74395\n",
       "3      41166\n",
       "1      35874\n",
       "2      18176\n",
       "6          2\n",
       "10         1\n",
       "Name: EaseofUse, dtype: int64"
      ]
     },
     "execution_count": 51,
     "metadata": {},
     "output_type": "execute_result"
    }
   ],
   "source": [
    "data['EaseofUse'].value_counts()"
   ]
  },
  {
   "cell_type": "code",
   "execution_count": 52,
   "id": "9a03d389",
   "metadata": {},
   "outputs": [
    {
     "data": {
      "text/plain": [
       "Text(0, 0.5, 'Count')"
      ]
     },
     "execution_count": 52,
     "metadata": {},
     "output_type": "execute_result"
    },
    {
     "data": {
      "image/png": "[encoded data removed]",
      "text/plain": [
       "<Figure size 576x360 with 1 Axes>"
      ]
     },
     "metadata": {
      "needs_background": "light"
     },
     "output_type": "display_data"
    }
   ],
   "source": [
    "fig = plt.figure(figsize=(8,5))\n",
    "ax = fig.add_axes([0,0,1,1])\n",
    "sns.countplot(data = data, x = 'EaseofUse', palette='mako')\n",
    "plt.title('Value count of Type of Ese of Use feature')\n",
    "ax.set_xlabel(\"Ease of Use\",fontsize=15, weight='semibold')\n",
    "ax.set_ylabel(\"Count\",fontsize=15, weight='semibold')\n",
    "\n"
   ]
  },
  {
   "cell_type": "markdown",
   "id": "e23780f8",
   "metadata": {},
   "source": [
    "Patients are only rated upto 5 .here 5 is more compared to others"
   ]
  },
  {
   "cell_type": "code",
   "execution_count": 53,
   "id": "90d466e2",
   "metadata": {},
   "outputs": [
    {
     "data": {
      "text/html": [
       "<div>\n",
       "<style scoped>\n",
       "    .dataframe tbody tr th:only-of-type {\n",
       "        vertical-align: middle;\n",
       "    }\n",
       "\n",
       "    .dataframe tbody tr th {\n",
       "        vertical-align: top;\n",
       "    }\n",
       "\n",
       "    .dataframe thead th {\n",
       "        text-align: right;\n",
       "    }\n",
       "</style>\n",
       "<table border=\"1\" class=\"dataframe\">\n",
       "  <thead>\n",
       "    <tr style=\"text-align: right;\">\n",
       "      <th>EaseofUse</th>\n",
       "      <th>1</th>\n",
       "      <th>2</th>\n",
       "      <th>3</th>\n",
       "      <th>4</th>\n",
       "      <th>5</th>\n",
       "      <th>6</th>\n",
       "      <th>10</th>\n",
       "    </tr>\n",
       "    <tr>\n",
       "      <th>Sides_class</th>\n",
       "      <th></th>\n",
       "      <th></th>\n",
       "      <th></th>\n",
       "      <th></th>\n",
       "      <th></th>\n",
       "      <th></th>\n",
       "      <th></th>\n",
       "    </tr>\n",
       "  </thead>\n",
       "  <tbody>\n",
       "    <tr>\n",
       "      <th>0</th>\n",
       "      <td>13942</td>\n",
       "      <td>6174</td>\n",
       "      <td>14292</td>\n",
       "      <td>24085</td>\n",
       "      <td>60536</td>\n",
       "      <td>0</td>\n",
       "      <td>0</td>\n",
       "    </tr>\n",
       "    <tr>\n",
       "      <th>1</th>\n",
       "      <td>16452</td>\n",
       "      <td>8945</td>\n",
       "      <td>19913</td>\n",
       "      <td>37178</td>\n",
       "      <td>95953</td>\n",
       "      <td>0</td>\n",
       "      <td>0</td>\n",
       "    </tr>\n",
       "    <tr>\n",
       "      <th>2</th>\n",
       "      <td>4780</td>\n",
       "      <td>2656</td>\n",
       "      <td>6022</td>\n",
       "      <td>11450</td>\n",
       "      <td>31040</td>\n",
       "      <td>2</td>\n",
       "      <td>1</td>\n",
       "    </tr>\n",
       "    <tr>\n",
       "      <th>3</th>\n",
       "      <td>700</td>\n",
       "      <td>401</td>\n",
       "      <td>939</td>\n",
       "      <td>1682</td>\n",
       "      <td>4683</td>\n",
       "      <td>0</td>\n",
       "      <td>0</td>\n",
       "    </tr>\n",
       "  </tbody>\n",
       "</table>\n",
       "</div>"
      ],
      "text/plain": [
       "EaseofUse       1     2      3      4      5   6   10\n",
       "Sides_class                                          \n",
       "0            13942  6174  14292  24085  60536   0   0\n",
       "1            16452  8945  19913  37178  95953   0   0\n",
       "2             4780  2656   6022  11450  31040   2   1\n",
       "3              700   401    939   1682   4683   0   0"
      ]
     },
     "execution_count": 53,
     "metadata": {},
     "output_type": "execute_result"
    }
   ],
   "source": [
    "table2=pd.crosstab(index=data['Sides_class'],columns=data['EaseofUse'])\n",
    "table2"
   ]
  },
  {
   "cell_type": "code",
   "execution_count": 54,
   "id": "141bf7ec",
   "metadata": {},
   "outputs": [
    {
     "data": {
      "text/plain": [
       "Text(22.19999999999999, 0.5, 'Count')"
      ]
     },
     "execution_count": 54,
     "metadata": {},
     "output_type": "execute_result"
    },
    {
     "data": {
      "image/png": "[encoded data removed]",
      "text/plain": [
       "<Figure size 576x432 with 1 Axes>"
      ]
     },
     "metadata": {
      "needs_background": "light"
     },
     "output_type": "display_data"
    }
   ],
   "source": [
    "fig = plt.figure(figsize=(8,6))\n",
    "\n",
    "sns.countplot(data = data, x = 'EaseofUse', hue = 'Sides_class', palette='mako')\n",
    "plt.legend(bbox_to_anchor=(1.02, 1), loc='upper left', borderaxespad=0)\n",
    "plt.title('Value count of EseofUse feature')\n",
    "ax.set_xlabel(\"Ease of Use\",fontsize=15, weight='semibold')\n",
    "ax.set_ylabel(\"Count\",fontsize=15, weight='semibold')"
   ]
  },
  {
   "cell_type": "markdown",
   "id": "96f916ab",
   "metadata": {},
   "source": [
    "#### Effectiveness"
   ]
  },
  {
   "cell_type": "code",
   "execution_count": 55,
   "id": "5a6509a3",
   "metadata": {},
   "outputs": [
    {
     "data": {
      "text/plain": [
       "count    361826.00000\n",
       "mean          3.53206\n",
       "std           1.45605\n",
       "min           1.00000\n",
       "25%           3.00000\n",
       "50%           4.00000\n",
       "75%           5.00000\n",
       "max          10.00000\n",
       "Name: Effectiveness, dtype: float64"
      ]
     },
     "execution_count": 55,
     "metadata": {},
     "output_type": "execute_result"
    }
   ],
   "source": [
    "data.Effectiveness.describe()"
   ]
  },
  {
   "cell_type": "code",
   "execution_count": 56,
   "id": "76a70535",
   "metadata": {},
   "outputs": [
    {
     "data": {
      "text/plain": [
       "5     130023\n",
       "4      81660\n",
       "3      60185\n",
       "1      59251\n",
       "2      30704\n",
       "6          2\n",
       "10         1\n",
       "Name: Effectiveness, dtype: int64"
      ]
     },
     "execution_count": 56,
     "metadata": {},
     "output_type": "execute_result"
    }
   ],
   "source": [
    "data.Effectiveness.value_counts()"
   ]
  },
  {
   "cell_type": "code",
   "execution_count": 57,
   "id": "dc5405a1",
   "metadata": {},
   "outputs": [
    {
     "data": {
      "text/plain": [
       "Text(0, 0.5, 'Count')"
      ]
     },
     "execution_count": 57,
     "metadata": {},
     "output_type": "execute_result"
    },
    {
     "data": {
      "image/png": "[encoded data removed]",
      "text/plain": [
       "<Figure size 576x360 with 1 Axes>"
      ]
     },
     "metadata": {
      "needs_background": "light"
     },
     "output_type": "display_data"
    }
   ],
   "source": [
    "fig = plt.figure(figsize=(8,5))\n",
    "ax = fig.add_axes([0,0,1,1])\n",
    "sns.countplot(data = data, x = 'Effectiveness', palette='mako')\n",
    "plt.title('Value count of Effectivenessl feature')\n",
    "ax.set_xlabel(\"Effectiveness\",fontsize=15, weight='semibold')\n",
    "ax.set_ylabel(\"Count\",fontsize=15, weight='semibold')"
   ]
  },
  {
   "cell_type": "code",
   "execution_count": 58,
   "id": "0f0f6461",
   "metadata": {},
   "outputs": [
    {
     "data": {
      "text/plain": [
       "Text(22.19999999999999, 0.5, 'Count')"
      ]
     },
     "execution_count": 58,
     "metadata": {},
     "output_type": "execute_result"
    },
    {
     "data": {
      "image/png": "[encoded data removed]",
      "text/plain": [
       "<Figure size 720x432 with 1 Axes>"
      ]
     },
     "metadata": {
      "needs_background": "light"
     },
     "output_type": "display_data"
    }
   ],
   "source": [
    "fig = plt.figure(figsize=(10,6))\n",
    "\n",
    "sns.countplot(data = data, x = 'Effectiveness', hue = 'Sides_class', palette='mako')\n",
    "plt.legend(bbox_to_anchor=(1.02, 1), loc='upper left', borderaxespad=0)\n",
    "plt.title('Value count of Effectiveness feature')\n",
    "ax.set_xlabel(\"Effectiveness\",fontsize=15, weight='semibold')\n",
    "ax.set_ylabel(\"Count\",fontsize=15, weight='semibold')"
   ]
  },
  {
   "cell_type": "markdown",
   "id": "b4de97e9",
   "metadata": {},
   "source": [
    "#### Satisfaction"
   ]
  },
  {
   "cell_type": "code",
   "execution_count": 59,
   "id": "39a07f72",
   "metadata": {},
   "outputs": [
    {
     "data": {
      "text/plain": [
       "count    361826.000000\n",
       "mean          3.134957\n",
       "std           1.611040\n",
       "min           1.000000\n",
       "25%           1.000000\n",
       "50%           3.000000\n",
       "75%           5.000000\n",
       "max          10.000000\n",
       "Name: Satisfaction, dtype: float64"
      ]
     },
     "execution_count": 59,
     "metadata": {},
     "output_type": "execute_result"
    }
   ],
   "source": [
    "data['Satisfaction'].describe()"
   ]
  },
  {
   "cell_type": "code",
   "execution_count": 60,
   "id": "20b6fca2",
   "metadata": {},
   "outputs": [
    {
     "data": {
      "text/plain": [
       "5     111164\n",
       "1     100697\n",
       "4      63031\n",
       "3      51784\n",
       "2      35147\n",
       "6          2\n",
       "10         1\n",
       "Name: Satisfaction, dtype: int64"
      ]
     },
     "execution_count": 60,
     "metadata": {},
     "output_type": "execute_result"
    }
   ],
   "source": [
    "data['Satisfaction'].value_counts()"
   ]
  },
  {
   "cell_type": "code",
   "execution_count": 61,
   "id": "498cb304",
   "metadata": {},
   "outputs": [
    {
     "data": {
      "text/plain": [
       "Text(0, 0.5, 'Count')"
      ]
     },
     "execution_count": 61,
     "metadata": {},
     "output_type": "execute_result"
    },
    {
     "data": {
      "image/png": "[encoded data removed]",
      "text/plain": [
       "<Figure size 576x360 with 1 Axes>"
      ]
     },
     "metadata": {
      "needs_background": "light"
     },
     "output_type": "display_data"
    }
   ],
   "source": [
    "fig = plt.figure(figsize=(8,5))\n",
    "ax = fig.add_axes([0,0,1,1])\n",
    "sns.countplot(data = data, x = 'Satisfaction', palette='mako')\n",
    "plt.title('Value count of ESatisfaction feature')\n",
    "ax.set_xlabel(\"Satisfaction\",fontsize=15, weight='semibold')\n",
    "ax.set_ylabel(\"Count\",fontsize=15, weight='semibold')"
   ]
  },
  {
   "cell_type": "code",
   "execution_count": 62,
   "id": "4dbbf5b0",
   "metadata": {},
   "outputs": [
    {
     "data": {
      "text/plain": [
       "Text(22.19999999999999, 0.5, 'Count')"
      ]
     },
     "execution_count": 62,
     "metadata": {},
     "output_type": "execute_result"
    },
    {
     "data": {
      "image/png": "[encoded data removed]",
      "text/plain": [
       "<Figure size 720x432 with 1 Axes>"
      ]
     },
     "metadata": {
      "needs_background": "light"
     },
     "output_type": "display_data"
    }
   ],
   "source": [
    "fig = plt.figure(figsize=(10,6))\n",
    "\n",
    "sns.countplot(data = data, x = 'Satisfaction', hue = 'Sides_class', palette='mako')\n",
    "plt.legend(bbox_to_anchor=(1.02, 1), loc='upper left', borderaxespad=0)\n",
    "plt.title('Value count of Satisfaction feature')\n",
    "ax.set_xlabel(\"Satisfaction\",fontsize=15, weight='semibold')\n",
    "ax.set_ylabel(\"Count\",fontsize=15, weight='semibold')"
   ]
  },
  {
   "cell_type": "markdown",
   "id": "3b281bfd",
   "metadata": {},
   "source": [
    "#### Sex"
   ]
  },
  {
   "cell_type": "code",
   "execution_count": 63,
   "id": "08318f7a",
   "metadata": {},
   "outputs": [
    {
     "data": {
      "text/plain": [
       "count     361826\n",
       "unique         3\n",
       "top       Female\n",
       "freq      237735\n",
       "Name: Sex, dtype: object"
      ]
     },
     "execution_count": 63,
     "metadata": {},
     "output_type": "execute_result"
    }
   ],
   "source": [
    "data.Sex.describe()"
   ]
  },
  {
   "cell_type": "code",
   "execution_count": 64,
   "id": "05aa449d",
   "metadata": {},
   "outputs": [
    {
     "data": {
      "text/plain": [
       "Female    237735\n",
       "Male       97657\n",
       "           26434\n",
       "Name: Sex, dtype: int64"
      ]
     },
     "execution_count": 64,
     "metadata": {},
     "output_type": "execute_result"
    }
   ],
   "source": [
    "data.Sex.value_counts()"
   ]
  },
  {
   "cell_type": "code",
   "execution_count": 65,
   "id": "006ef7de",
   "metadata": {},
   "outputs": [],
   "source": [
    "no_sex=data.index[data['Sex'].apply(lambda x: x==' ')].tolist()\n",
    "\n",
    "for i in no_sex:\n",
    "    data.loc[data.index==i,'Sex']='Not mentioned' "
   ]
  },
  {
   "cell_type": "code",
   "execution_count": 66,
   "id": "0cb27a1f",
   "metadata": {},
   "outputs": [
    {
     "data": {
      "text/plain": [
       "Text(0, 0.5, 'Count')"
      ]
     },
     "execution_count": 66,
     "metadata": {},
     "output_type": "execute_result"
    },
    {
     "data": {
      "image/png": "[encoded data removed]",
      "text/plain": [
       "<Figure size 576x360 with 1 Axes>"
      ]
     },
     "metadata": {
      "needs_background": "light"
     },
     "output_type": "display_data"
    }
   ],
   "source": [
    "fig = plt.figure(figsize=(8,5))\n",
    "ax = fig.add_axes([0,0,1,1])\n",
    "sns.countplot(data = data, x = 'Sex', palette='mako')\n",
    "plt.title('Value count of Sex feature')\n",
    "ax.set_xlabel(\"Sex\",fontsize=15, weight='semibold')\n",
    "ax.set_ylabel(\"Count\",fontsize=15, weight='semibold')"
   ]
  },
  {
   "cell_type": "code",
   "execution_count": 67,
   "id": "a679a7d1",
   "metadata": {},
   "outputs": [
    {
     "data": {
      "text/plain": [
       "Female           237735\n",
       "Male              97657\n",
       "Not mentioned     26434\n",
       "Name: Sex, dtype: int64"
      ]
     },
     "execution_count": 67,
     "metadata": {},
     "output_type": "execute_result"
    }
   ],
   "source": [
    "data['Sex'].value_counts()"
   ]
  },
  {
   "cell_type": "code",
   "execution_count": 68,
   "id": "84676236",
   "metadata": {},
   "outputs": [
    {
     "data": {
      "text/plain": [
       "Text(22.19999999999999, 0.5, 'Count')"
      ]
     },
     "execution_count": 68,
     "metadata": {},
     "output_type": "execute_result"
    },
    {
     "data": {
      "image/png": "[encoded data removed]",
      "text/plain": [
       "<Figure size 720x432 with 1 Axes>"
      ]
     },
     "metadata": {
      "needs_background": "light"
     },
     "output_type": "display_data"
    }
   ],
   "source": [
    "fig = plt.figure(figsize=(10,6))\n",
    "\n",
    "sns.countplot(data = data, x = 'Sex', hue = 'Sides_class', palette='mako')\n",
    "plt.legend(bbox_to_anchor=(1.02, 1), loc='upper left', borderaxespad=0)\n",
    "plt.title('Value count of Sex feature')\n",
    "ax.set_xlabel(\"Sex\",fontsize=15, weight='semibold')\n",
    "ax.set_ylabel(\"Count\",fontsize=15, weight='semibold')"
   ]
  },
  {
   "cell_type": "markdown",
   "id": "22498c07",
   "metadata": {},
   "source": [
    "#### UsefulCount"
   ]
  },
  {
   "cell_type": "code",
   "execution_count": 69,
   "id": "95a468b3",
   "metadata": {},
   "outputs": [
    {
     "data": {
      "text/plain": [
       "0      71076\n",
       "1      46138\n",
       "2      34667\n",
       "3      27252\n",
       "4      22831\n",
       "       ...  \n",
       "136        1\n",
       "178        1\n",
       "176        1\n",
       "169        1\n",
       "95         1\n",
       "Name: UsefulCount, Length: 148, dtype: int64"
      ]
     },
     "execution_count": 69,
     "metadata": {},
     "output_type": "execute_result"
    }
   ],
   "source": [
    "data.UsefulCount.value_counts()"
   ]
  },
  {
   "cell_type": "code",
   "execution_count": 70,
   "id": "44e1dc4c",
   "metadata": {},
   "outputs": [
    {
     "data": {
      "text/plain": [
       "count    361826.000000\n",
       "mean          6.752837\n",
       "std           9.327556\n",
       "min           0.000000\n",
       "25%           1.000000\n",
       "50%           4.000000\n",
       "75%           9.000000\n",
       "max         255.000000\n",
       "Name: UsefulCount, dtype: float64"
      ]
     },
     "execution_count": 70,
     "metadata": {},
     "output_type": "execute_result"
    }
   ],
   "source": [
    "data.UsefulCount.describe()"
   ]
  },
  {
   "cell_type": "code",
   "execution_count": 71,
   "id": "947d89e7",
   "metadata": {},
   "outputs": [
    {
     "data": {
      "text/plain": [
       "Text(0.5, 1.0, 'Distribution of UsefulCount')"
      ]
     },
     "execution_count": 71,
     "metadata": {},
     "output_type": "execute_result"
    },
    {
     "data": {
      "text/plain": [
       "<Figure size 576x360 with 0 Axes>"
      ]
     },
     "metadata": {},
     "output_type": "display_data"
    },
    {
     "data": {
      "image/png": "[encoded data removed]",
      "text/plain": [
       "<Figure size 360x360 with 1 Axes>"
      ]
     },
     "metadata": {
      "needs_background": "light"
     },
     "output_type": "display_data"
    }
   ],
   "source": [
    "plt.figure(figsize = (8,5))\n",
    "sns.displot(data = data['UsefulCount'], palette='mako', kde=True, height = 5)\n",
    "plt.title('Distribution of UsefulCount')"
   ]
  },
  {
   "cell_type": "code",
   "execution_count": 72,
   "id": "d51f049e",
   "metadata": {},
   "outputs": [
    {
     "data": {
      "image/png": "[encoded data removed]",
      "text/plain": [
       "<Figure size 432x288 with 1 Axes>"
      ]
     },
     "metadata": {
      "needs_background": "light"
     },
     "output_type": "display_data"
    }
   ],
   "source": [
    "sns.boxplot(x=data[\"UsefulCount\"],color=\"red\")\n",
    "plt.title(\"Box plot of the UsefulCount\")\n",
    "plt.tight_layout()\n",
    "plt.show()"
   ]
  },
  {
   "cell_type": "code",
   "execution_count": 73,
   "id": "d2c443cb",
   "metadata": {},
   "outputs": [
    {
     "data": {
      "image/png": "[encoded data removed]",
      "text/plain": [
       "<Figure size 720x360 with 1 Axes>"
      ]
     },
     "metadata": {
      "needs_background": "light"
     },
     "output_type": "display_data"
    }
   ],
   "source": [
    "plt.figure(figsize=(10,5))\n",
    "sns.violinplot(x='Sides_class',y='UsefulCount',data=data)\n",
    "plt.title(\"Plot between Useful count or not vs sides_class\" )\n",
    "plt.tight_layout()\n",
    "plt.show()"
   ]
  },
  {
   "cell_type": "markdown",
   "id": "50b1847e",
   "metadata": {},
   "source": [
    "#### Reviews"
   ]
  },
  {
   "cell_type": "code",
   "execution_count": 74,
   "id": "9fe046c6",
   "metadata": {},
   "outputs": [
    {
     "data": {
      "text/plain": [
       "count     361826\n",
       "unique    250167\n",
       "top             \n",
       "freq       41700\n",
       "Name: Reviews, dtype: object"
      ]
     },
     "execution_count": 74,
     "metadata": {},
     "output_type": "execute_result"
    }
   ],
   "source": [
    "data.Reviews.describe()"
   ]
  },
  {
   "cell_type": "code",
   "execution_count": 75,
   "id": "393898db",
   "metadata": {},
   "outputs": [
    {
     "data": {
      "text/plain": [
       "\"I'm a retired physician and of all the meds I have tried for my allergies (seasonal and not) - this one is the most effective for me.  When I first began using this drug some years ago - tiredness as a problem but is not currently.\""
      ]
     },
     "execution_count": 75,
     "metadata": {},
     "output_type": "execute_result"
    }
   ],
   "source": [
    "data['Reviews'][0]"
   ]
  },
  {
   "cell_type": "code",
   "execution_count": 76,
   "id": "a99667e2",
   "metadata": {},
   "outputs": [],
   "source": [
    "#Cleaning review column"
   ]
  },
  {
   "cell_type": "markdown",
   "id": "c47fabe8",
   "metadata": {},
   "source": [
    "Converting to lower case is necessary. Otherwise,it will consider the same word\n",
    "with an uppercase as a different word. Like ‘me’ and ‘Me’ will be considered as different words."
   ]
  },
  {
   "cell_type": "code",
   "execution_count": 77,
   "id": "63e9e293",
   "metadata": {},
   "outputs": [
    {
     "data": {
      "text/plain": [
       "0    i'm a retired physician and of all the meds i ...\n",
       "1    cleared me right up even with my throat hurtin...\n",
       "2    why did my ptinr go from a normal of 2.5 to ov...\n",
       "3                         falling and don't realise it\n",
       "4    my grandfather was prescribed this medication ...\n",
       "Name: review1, dtype: object"
      ]
     },
     "execution_count": 77,
     "metadata": {},
     "output_type": "execute_result"
    }
   ],
   "source": [
    "data['review1'] = data['Reviews'].apply(lambda x: \" \".join(x.lower() for x in x.split()))\n",
    "data['review1'].head()"
   ]
  },
  {
   "cell_type": "markdown",
   "id": "a48b80b8",
   "metadata": {},
   "source": [
    "This step is to remove the punctuations. Because of punctuation, a word might be treated differently than it originally is.\n",
    "For example ‘use’ and ‘use:’ will become different words because of punctuation."
   ]
  },
  {
   "cell_type": "code",
   "execution_count": 78,
   "id": "93e76a5f",
   "metadata": {},
   "outputs": [
    {
     "name": "stderr",
     "output_type": "stream",
     "text": [
      "C:\\Users\\XARCHI~1\\AppData\\Local\\Temp/ipykernel_7608/3834307678.py:1: FutureWarning: The default value of regex will change from True to False in a future version.\n",
      "  data['eview1'] = data['review1'].str.replace('[^\\w\\s]', '')\n"
     ]
    }
   ],
   "source": [
    "data['eview1'] = data['review1'].str.replace('[^\\w\\s]', '')"
   ]
  },
  {
   "cell_type": "markdown",
   "id": "42355f09",
   "metadata": {},
   "source": [
    "Removing Stop Words"
   ]
  },
  {
   "cell_type": "code",
   "execution_count": 79,
   "id": "389d0ac5",
   "metadata": {},
   "outputs": [
    {
     "name": "stderr",
     "output_type": "stream",
     "text": [
      "[nltk_data] Error loading stopwords: <urlopen error [Errno 11001]\n",
      "[nltk_data]     getaddrinfo failed>\n"
     ]
    }
   ],
   "source": [
    "import nltk\n",
    "nltk.download('stopwords')\n",
    "from nltk.corpus import stopwords\n",
    "stop = stopwords.words('english')"
   ]
  },
  {
   "cell_type": "code",
   "execution_count": 80,
   "id": "a3572329",
   "metadata": {},
   "outputs": [],
   "source": [
    "data['review1'] = data['review1'].apply(lambda x: \" \".join(x for x in x.split() if x not in stop))"
   ]
  },
  {
   "cell_type": "code",
   "execution_count": 81,
   "id": "6eb25bde",
   "metadata": {},
   "outputs": [
    {
     "name": "stdout",
     "output_type": "stream",
     "text": [
      "Requirement already satisfied: textblob in c:\\users\\xarchitecture\\anaconda3\\lib\\site-packages (0.17.1)Note: you may need to restart the kernel to use updated packages.\n",
      "\n",
      "Requirement already satisfied: nltk>=3.1 in c:\\users\\xarchitecture\\anaconda3\\lib\\site-packages (from textblob) (3.6.5)\n",
      "Requirement already satisfied: click in c:\\users\\xarchitecture\\anaconda3\\lib\\site-packages (from nltk>=3.1->textblob) (8.0.3)\n",
      "Requirement already satisfied: joblib in c:\\users\\xarchitecture\\anaconda3\\lib\\site-packages (from nltk>=3.1->textblob) (1.1.0)\n",
      "Requirement already satisfied: regex>=2021.8.3 in c:\\users\\xarchitecture\\anaconda3\\lib\\site-packages (from nltk>=3.1->textblob) (2021.8.3)\n",
      "Requirement already satisfied: tqdm in c:\\users\\xarchitecture\\anaconda3\\lib\\site-packages (from nltk>=3.1->textblob) (4.62.3)\n",
      "Requirement already satisfied: colorama in c:\\users\\xarchitecture\\anaconda3\\lib\\site-packages (from click->nltk>=3.1->textblob) (0.4.4)\n"
     ]
    }
   ],
   "source": [
    "pip install textblob"
   ]
  },
  {
   "cell_type": "code",
   "execution_count": 82,
   "id": "78688c46",
   "metadata": {},
   "outputs": [],
   "source": [
    "from textblob import TextBlob"
   ]
  },
  {
   "cell_type": "code",
   "execution_count": 83,
   "id": "722d2c77",
   "metadata": {},
   "outputs": [],
   "source": [
    "def get_sentiment(text):\n",
    "    blob=TextBlob(text)\n",
    "    return sentiment.polarity\n",
    "def get_sentiment_label(text):\n",
    "    blob=TextBlob(text)\n",
    "    if blob.polarity>0:\n",
    "        result='positive'\n",
    "    elif blob.polarity<0:\n",
    "        result='negative'\n",
    "    else:\n",
    "        result='neutral'\n",
    "    return result"
   ]
  },
  {
   "cell_type": "code",
   "execution_count": 84,
   "id": "0f1548fa",
   "metadata": {},
   "outputs": [],
   "source": [
    "data['Sentiment_label']=data['review1'].apply(get_sentiment_label)"
   ]
  },
  {
   "cell_type": "code",
   "execution_count": 85,
   "id": "0d22cf75",
   "metadata": {},
   "outputs": [
    {
     "data": {
      "text/plain": [
       "<AxesSubplot:>"
      ]
     },
     "execution_count": 85,
     "metadata": {},
     "output_type": "execute_result"
    },
    {
     "data": {
      "image/png": "[encoded data removed]",
      "text/plain": [
       "<Figure size 432x288 with 1 Axes>"
      ]
     },
     "metadata": {
      "needs_background": "light"
     },
     "output_type": "display_data"
    }
   ],
   "source": [
    "data['Sentiment_label'].value_counts().plot(kind='bar')"
   ]
  },
  {
   "cell_type": "code",
   "execution_count": 86,
   "id": "b6ae3676",
   "metadata": {},
   "outputs": [
    {
     "data": {
      "text/html": [
       "<div>\n",
       "<style scoped>\n",
       "    .dataframe tbody tr th:only-of-type {\n",
       "        vertical-align: middle;\n",
       "    }\n",
       "\n",
       "    .dataframe tbody tr th {\n",
       "        vertical-align: top;\n",
       "    }\n",
       "\n",
       "    .dataframe thead th {\n",
       "        text-align: right;\n",
       "    }\n",
       "</style>\n",
       "<table border=\"1\" class=\"dataframe\">\n",
       "  <thead>\n",
       "    <tr style=\"text-align: right;\">\n",
       "      <th></th>\n",
       "      <th>Satisfaction</th>\n",
       "      <th>Sentiment_label</th>\n",
       "      <th>UsefulCount</th>\n",
       "    </tr>\n",
       "  </thead>\n",
       "  <tbody>\n",
       "    <tr>\n",
       "      <th>0</th>\n",
       "      <td>5</td>\n",
       "      <td>positive</td>\n",
       "      <td>0</td>\n",
       "    </tr>\n",
       "    <tr>\n",
       "      <th>1</th>\n",
       "      <td>5</td>\n",
       "      <td>positive</td>\n",
       "      <td>1</td>\n",
       "    </tr>\n",
       "    <tr>\n",
       "      <th>2</th>\n",
       "      <td>3</td>\n",
       "      <td>positive</td>\n",
       "      <td>0</td>\n",
       "    </tr>\n",
       "    <tr>\n",
       "      <th>3</th>\n",
       "      <td>1</td>\n",
       "      <td>neutral</td>\n",
       "      <td>0</td>\n",
       "    </tr>\n",
       "    <tr>\n",
       "      <th>4</th>\n",
       "      <td>1</td>\n",
       "      <td>positive</td>\n",
       "      <td>1</td>\n",
       "    </tr>\n",
       "    <tr>\n",
       "      <th>5</th>\n",
       "      <td>4</td>\n",
       "      <td>neutral</td>\n",
       "      <td>0</td>\n",
       "    </tr>\n",
       "    <tr>\n",
       "      <th>6</th>\n",
       "      <td>2</td>\n",
       "      <td>negative</td>\n",
       "      <td>0</td>\n",
       "    </tr>\n",
       "    <tr>\n",
       "      <th>7</th>\n",
       "      <td>5</td>\n",
       "      <td>neutral</td>\n",
       "      <td>0</td>\n",
       "    </tr>\n",
       "    <tr>\n",
       "      <th>8</th>\n",
       "      <td>2</td>\n",
       "      <td>neutral</td>\n",
       "      <td>1</td>\n",
       "    </tr>\n",
       "    <tr>\n",
       "      <th>9</th>\n",
       "      <td>2</td>\n",
       "      <td>neutral</td>\n",
       "      <td>0</td>\n",
       "    </tr>\n",
       "    <tr>\n",
       "      <th>10</th>\n",
       "      <td>5</td>\n",
       "      <td>positive</td>\n",
       "      <td>0</td>\n",
       "    </tr>\n",
       "    <tr>\n",
       "      <th>11</th>\n",
       "      <td>2</td>\n",
       "      <td>negative</td>\n",
       "      <td>0</td>\n",
       "    </tr>\n",
       "    <tr>\n",
       "      <th>12</th>\n",
       "      <td>1</td>\n",
       "      <td>negative</td>\n",
       "      <td>0</td>\n",
       "    </tr>\n",
       "    <tr>\n",
       "      <th>13</th>\n",
       "      <td>1</td>\n",
       "      <td>negative</td>\n",
       "      <td>0</td>\n",
       "    </tr>\n",
       "    <tr>\n",
       "      <th>14</th>\n",
       "      <td>5</td>\n",
       "      <td>positive</td>\n",
       "      <td>0</td>\n",
       "    </tr>\n",
       "    <tr>\n",
       "      <th>15</th>\n",
       "      <td>1</td>\n",
       "      <td>positive</td>\n",
       "      <td>1</td>\n",
       "    </tr>\n",
       "    <tr>\n",
       "      <th>16</th>\n",
       "      <td>1</td>\n",
       "      <td>negative</td>\n",
       "      <td>1</td>\n",
       "    </tr>\n",
       "    <tr>\n",
       "      <th>17</th>\n",
       "      <td>1</td>\n",
       "      <td>negative</td>\n",
       "      <td>1</td>\n",
       "    </tr>\n",
       "    <tr>\n",
       "      <th>18</th>\n",
       "      <td>4</td>\n",
       "      <td>positive</td>\n",
       "      <td>1</td>\n",
       "    </tr>\n",
       "    <tr>\n",
       "      <th>19</th>\n",
       "      <td>1</td>\n",
       "      <td>negative</td>\n",
       "      <td>3</td>\n",
       "    </tr>\n",
       "  </tbody>\n",
       "</table>\n",
       "</div>"
      ],
      "text/plain": [
       "    Satisfaction Sentiment_label  UsefulCount\n",
       "0              5        positive            0\n",
       "1              5        positive            1\n",
       "2              3        positive            0\n",
       "3              1         neutral            0\n",
       "4              1        positive            1\n",
       "5              4         neutral            0\n",
       "6              2        negative            0\n",
       "7              5         neutral            0\n",
       "8              2         neutral            1\n",
       "9              2         neutral            0\n",
       "10             5        positive            0\n",
       "11             2        negative            0\n",
       "12             1        negative            0\n",
       "13             1        negative            0\n",
       "14             5        positive            0\n",
       "15             1        positive            1\n",
       "16             1        negative            1\n",
       "17             1        negative            1\n",
       "18             4        positive            1\n",
       "19             1        negative            3"
      ]
     },
     "execution_count": 86,
     "metadata": {},
     "output_type": "execute_result"
    }
   ],
   "source": [
    "data[['Satisfaction','Sentiment_label','UsefulCount']].head(20)"
   ]
  },
  {
   "cell_type": "code",
   "execution_count": 87,
   "id": "78c440c7",
   "metadata": {},
   "outputs": [
    {
     "data": {
      "text/plain": [
       "Text(22.19999999999999, 0.5, 'Count')"
      ]
     },
     "execution_count": 87,
     "metadata": {},
     "output_type": "execute_result"
    },
    {
     "data": {
      "image/png": "[encoded data removed]",
      "text/plain": [
       "<Figure size 720x432 with 1 Axes>"
      ]
     },
     "metadata": {
      "needs_background": "light"
     },
     "output_type": "display_data"
    }
   ],
   "source": [
    "fig = plt.figure(figsize=(10,6))\n",
    "\n",
    "sns.countplot(data = data, x = 'Sentiment_label', hue = 'Sides_class', palette='mako')\n",
    "plt.legend(bbox_to_anchor=(1.02, 1), loc='upper left', borderaxespad=0)\n",
    "plt.title('Value count of Sentiment_label feature')\n",
    "ax.set_xlabel(\"Sentiment_label\",fontsize=15, weight='semibold')\n",
    "ax.set_ylabel(\"Count\",fontsize=15, weight='semibold')"
   ]
  }
 ],
 "metadata": {
  "kernelspec": {
   "display_name": "Python 3 (ipykernel)",
   "language": "python",
   "name": "python3"
  },
  "language_info": {
   "codemirror_mode": {
    "name": "ipython",
    "version": 3
   },
   "file_extension": ".py",
   "mimetype": "text/x-python",
   "name": "python",
   "nbconvert_exporter": "python",
   "pygments_lexer": "ipython3",
   "version": "3.9.7"
  }
 },
 "nbformat": 4,
 "nbformat_minor": 5
}
